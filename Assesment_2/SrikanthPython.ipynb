{
 "cells": [
  {
   "cell_type": "markdown",
   "metadata": {},
   "source": [
    "I would like to use data frame as a 2-dimensional data structure"
   ]
  },
  {
   "cell_type": "markdown",
   "metadata": {},
   "source": [
    "Read data1.txt"
   ]
  },
  {
   "cell_type": "code",
   "execution_count": 1,
   "metadata": {},
   "outputs": [],
   "source": [
    "import pandas as pd\n",
    "data1 = pd.read_csv(r'C:\\Users\\srika\\OneDrive\\Desktop\\Spring_21\\Freddie_Mac\\data1.txt', delimiter ='|')"
   ]
  },
  {
   "cell_type": "code",
   "execution_count": 2,
   "metadata": {},
   "outputs": [
    {
     "data": {
      "text/html": [
       "<div>\n",
       "<style scoped>\n",
       "    .dataframe tbody tr th:only-of-type {\n",
       "        vertical-align: middle;\n",
       "    }\n",
       "\n",
       "    .dataframe tbody tr th {\n",
       "        vertical-align: top;\n",
       "    }\n",
       "\n",
       "    .dataframe thead th {\n",
       "        text-align: right;\n",
       "    }\n",
       "</style>\n",
       "<table border=\"1\" class=\"dataframe\">\n",
       "  <thead>\n",
       "    <tr style=\"text-align: right;\">\n",
       "      <th></th>\n",
       "      <th>ID</th>\n",
       "      <th>V1</th>\n",
       "      <th>V2</th>\n",
       "      <th>V3</th>\n",
       "      <th>V4</th>\n",
       "      <th>V5</th>\n",
       "      <th>V6</th>\n",
       "      <th>V7</th>\n",
       "      <th>V8</th>\n",
       "      <th>V9</th>\n",
       "      <th>...</th>\n",
       "      <th>V11</th>\n",
       "      <th>V12</th>\n",
       "      <th>V13</th>\n",
       "      <th>V14</th>\n",
       "      <th>V15</th>\n",
       "      <th>V16</th>\n",
       "      <th>V17</th>\n",
       "      <th>V18</th>\n",
       "      <th>V19</th>\n",
       "      <th>V20</th>\n",
       "    </tr>\n",
       "  </thead>\n",
       "  <tbody>\n",
       "    <tr>\n",
       "      <td>0</td>\n",
       "      <td>148</td>\n",
       "      <td>0.0654</td>\n",
       "      <td>0.0649</td>\n",
       "      <td>0.0737</td>\n",
       "      <td>0.1132</td>\n",
       "      <td>0.2482</td>\n",
       "      <td>0.1257</td>\n",
       "      <td>0.1797</td>\n",
       "      <td>0.0989</td>\n",
       "      <td>0.2460</td>\n",
       "      <td>...</td>\n",
       "      <td>0.2128</td>\n",
       "      <td>0.1377</td>\n",
       "      <td>0.4032</td>\n",
       "      <td>0.5684</td>\n",
       "      <td>0.2398</td>\n",
       "      <td>0.4331</td>\n",
       "      <td>0.5954</td>\n",
       "      <td>0.5772</td>\n",
       "      <td>0.8176</td>\n",
       "      <td>0.8835</td>\n",
       "    </tr>\n",
       "    <tr>\n",
       "      <td>1</td>\n",
       "      <td>51</td>\n",
       "      <td>0.0353</td>\n",
       "      <td>0.0713</td>\n",
       "      <td>0.0326</td>\n",
       "      <td>0.0272</td>\n",
       "      <td>0.0370</td>\n",
       "      <td>0.0792</td>\n",
       "      <td>0.1083</td>\n",
       "      <td>0.0687</td>\n",
       "      <td>0.0298</td>\n",
       "      <td>...</td>\n",
       "      <td>0.1078</td>\n",
       "      <td>0.0979</td>\n",
       "      <td>0.2250</td>\n",
       "      <td>0.2819</td>\n",
       "      <td>0.2099</td>\n",
       "      <td>0.1240</td>\n",
       "      <td>0.1699</td>\n",
       "      <td>0.0939</td>\n",
       "      <td>0.1091</td>\n",
       "      <td>0.1410</td>\n",
       "    </tr>\n",
       "    <tr>\n",
       "      <td>2</td>\n",
       "      <td>81</td>\n",
       "      <td>0.0229</td>\n",
       "      <td>0.0369</td>\n",
       "      <td>0.0040</td>\n",
       "      <td>0.0375</td>\n",
       "      <td>0.0455</td>\n",
       "      <td>0.1452</td>\n",
       "      <td>0.2211</td>\n",
       "      <td>0.1188</td>\n",
       "      <td>0.0750</td>\n",
       "      <td>...</td>\n",
       "      <td>0.2709</td>\n",
       "      <td>0.3358</td>\n",
       "      <td>0.4091</td>\n",
       "      <td>0.4400</td>\n",
       "      <td>0.5485</td>\n",
       "      <td>0.7213</td>\n",
       "      <td>0.8137</td>\n",
       "      <td>0.9185</td>\n",
       "      <td>1.0000</td>\n",
       "      <td>0.9418</td>\n",
       "    </tr>\n",
       "    <tr>\n",
       "      <td>3</td>\n",
       "      <td>19</td>\n",
       "      <td>0.0270</td>\n",
       "      <td>0.0092</td>\n",
       "      <td>0.0145</td>\n",
       "      <td>0.0278</td>\n",
       "      <td>0.0412</td>\n",
       "      <td>0.0757</td>\n",
       "      <td>0.1026</td>\n",
       "      <td>0.1138</td>\n",
       "      <td>0.0794</td>\n",
       "      <td>...</td>\n",
       "      <td>0.1675</td>\n",
       "      <td>0.1370</td>\n",
       "      <td>0.1361</td>\n",
       "      <td>0.1345</td>\n",
       "      <td>0.2144</td>\n",
       "      <td>0.5354</td>\n",
       "      <td>0.6830</td>\n",
       "      <td>0.5600</td>\n",
       "      <td>0.3093</td>\n",
       "      <td>0.3226</td>\n",
       "    </tr>\n",
       "    <tr>\n",
       "      <td>4</td>\n",
       "      <td>197</td>\n",
       "      <td>0.0050</td>\n",
       "      <td>0.0017</td>\n",
       "      <td>0.0270</td>\n",
       "      <td>0.0450</td>\n",
       "      <td>0.0958</td>\n",
       "      <td>0.0830</td>\n",
       "      <td>0.0879</td>\n",
       "      <td>0.1220</td>\n",
       "      <td>0.1977</td>\n",
       "      <td>...</td>\n",
       "      <td>0.2521</td>\n",
       "      <td>0.3484</td>\n",
       "      <td>0.3309</td>\n",
       "      <td>0.2614</td>\n",
       "      <td>0.1782</td>\n",
       "      <td>0.2055</td>\n",
       "      <td>0.2298</td>\n",
       "      <td>0.3545</td>\n",
       "      <td>0.6218</td>\n",
       "      <td>0.7265</td>\n",
       "    </tr>\n",
       "  </tbody>\n",
       "</table>\n",
       "<p>5 rows × 21 columns</p>\n",
       "</div>"
      ],
      "text/plain": [
       "    ID      V1      V2      V3      V4      V5      V6      V7      V8  \\\n",
       "0  148  0.0654  0.0649  0.0737  0.1132  0.2482  0.1257  0.1797  0.0989   \n",
       "1   51  0.0353  0.0713  0.0326  0.0272  0.0370  0.0792  0.1083  0.0687   \n",
       "2   81  0.0229  0.0369  0.0040  0.0375  0.0455  0.1452  0.2211  0.1188   \n",
       "3   19  0.0270  0.0092  0.0145  0.0278  0.0412  0.0757  0.1026  0.1138   \n",
       "4  197  0.0050  0.0017  0.0270  0.0450  0.0958  0.0830  0.0879  0.1220   \n",
       "\n",
       "       V9  ...     V11     V12     V13     V14     V15     V16     V17  \\\n",
       "0  0.2460  ...  0.2128  0.1377  0.4032  0.5684  0.2398  0.4331  0.5954   \n",
       "1  0.0298  ...  0.1078  0.0979  0.2250  0.2819  0.2099  0.1240  0.1699   \n",
       "2  0.0750  ...  0.2709  0.3358  0.4091  0.4400  0.5485  0.7213  0.8137   \n",
       "3  0.0794  ...  0.1675  0.1370  0.1361  0.1345  0.2144  0.5354  0.6830   \n",
       "4  0.1977  ...  0.2521  0.3484  0.3309  0.2614  0.1782  0.2055  0.2298   \n",
       "\n",
       "      V18     V19     V20  \n",
       "0  0.5772  0.8176  0.8835  \n",
       "1  0.0939  0.1091  0.1410  \n",
       "2  0.9185  1.0000  0.9418  \n",
       "3  0.5600  0.3093  0.3226  \n",
       "4  0.3545  0.6218  0.7265  \n",
       "\n",
       "[5 rows x 21 columns]"
      ]
     },
     "execution_count": 2,
     "metadata": {},
     "output_type": "execute_result"
    }
   ],
   "source": [
    "data1.head()"
   ]
  },
  {
   "cell_type": "markdown",
   "metadata": {},
   "source": [
    "a. datatypes in data1"
   ]
  },
  {
   "cell_type": "code",
   "execution_count": 3,
   "metadata": {},
   "outputs": [],
   "source": [
    "data1=data1.astype({'ID':int})"
   ]
  },
  {
   "cell_type": "code",
   "execution_count": 4,
   "metadata": {},
   "outputs": [
    {
     "data": {
      "text/plain": [
       "ID       int32\n",
       "V1     float64\n",
       "V2     float64\n",
       "V3     float64\n",
       "V4     float64\n",
       "V5     float64\n",
       "V6     float64\n",
       "V7     float64\n",
       "V8     float64\n",
       "V9     float64\n",
       "V10    float64\n",
       "V11    float64\n",
       "V12    float64\n",
       "V13    float64\n",
       "V14    float64\n",
       "V15    float64\n",
       "V16    float64\n",
       "V17    float64\n",
       "V18    float64\n",
       "V19    float64\n",
       "V20    float64\n",
       "dtype: object"
      ]
     },
     "execution_count": 4,
     "metadata": {},
     "output_type": "execute_result"
    }
   ],
   "source": [
    "data1.dtypes"
   ]
  },
  {
   "cell_type": "markdown",
   "metadata": {},
   "source": [
    "Read data2.xml"
   ]
  },
  {
   "cell_type": "code",
   "execution_count": 5,
   "metadata": {},
   "outputs": [],
   "source": [
    "import xml.etree.ElementTree as ET\n",
    "import pandas as pd\n",
    "import numpy as np\n",
    "\n",
    "xml_data = open(r'C:\\Users\\srika\\OneDrive\\Desktop\\Spring_21\\Freddie_Mac\\data2.xml', 'r').read()  # Read file\n",
    "root = ET.XML(xml_data)  # Parse XML\n",
    "\n",
    "data = []\n",
    "cols = []\n",
    "\n",
    "for i, child in enumerate(root):\n",
    "    data.append([float(subchild.text) if subchild.text!='NA' else np.nan for subchild in child])\n",
    "\n",
    "    cols.append([subchild.tag for subchild in child])\n",
    "\n",
    "data2 = pd.DataFrame(data) # Write in data2\n",
    "data2.columns = cols[0]  # Update column name"
   ]
  },
  {
   "cell_type": "code",
   "execution_count": 6,
   "metadata": {},
   "outputs": [
    {
     "data": {
      "text/html": [
       "<div>\n",
       "<style scoped>\n",
       "    .dataframe tbody tr th:only-of-type {\n",
       "        vertical-align: middle;\n",
       "    }\n",
       "\n",
       "    .dataframe tbody tr th {\n",
       "        vertical-align: top;\n",
       "    }\n",
       "\n",
       "    .dataframe thead th {\n",
       "        text-align: right;\n",
       "    }\n",
       "</style>\n",
       "<table border=\"1\" class=\"dataframe\">\n",
       "  <thead>\n",
       "    <tr style=\"text-align: right;\">\n",
       "      <th></th>\n",
       "      <th>ID</th>\n",
       "      <th>V21</th>\n",
       "      <th>V22</th>\n",
       "      <th>V23</th>\n",
       "      <th>V24</th>\n",
       "      <th>V25</th>\n",
       "      <th>V26</th>\n",
       "      <th>V27</th>\n",
       "      <th>V28</th>\n",
       "      <th>V29</th>\n",
       "      <th>...</th>\n",
       "      <th>V31</th>\n",
       "      <th>V32</th>\n",
       "      <th>V33</th>\n",
       "      <th>V34</th>\n",
       "      <th>V35</th>\n",
       "      <th>V36</th>\n",
       "      <th>V37</th>\n",
       "      <th>V38</th>\n",
       "      <th>V39</th>\n",
       "      <th>V40</th>\n",
       "    </tr>\n",
       "  </thead>\n",
       "  <tbody>\n",
       "    <tr>\n",
       "      <td>0</td>\n",
       "      <td>83.0</td>\n",
       "      <td>0.7561</td>\n",
       "      <td>0.8217</td>\n",
       "      <td>0.6967</td>\n",
       "      <td>0.6444</td>\n",
       "      <td>0.6948</td>\n",
       "      <td>0.8014</td>\n",
       "      <td>0.6053</td>\n",
       "      <td>0.6084</td>\n",
       "      <td>0.8877</td>\n",
       "      <td>...</td>\n",
       "      <td>0.5563</td>\n",
       "      <td>0.2897</td>\n",
       "      <td>0.3638</td>\n",
       "      <td>0.4786</td>\n",
       "      <td>0.2908</td>\n",
       "      <td>0.0899</td>\n",
       "      <td>0.2043</td>\n",
       "      <td>0.1707</td>\n",
       "      <td>0.0407</td>\n",
       "      <td>0.1286</td>\n",
       "    </tr>\n",
       "    <tr>\n",
       "      <td>1</td>\n",
       "      <td>206.0</td>\n",
       "      <td>0.3164</td>\n",
       "      <td>0.5888</td>\n",
       "      <td>0.7631</td>\n",
       "      <td>0.8473</td>\n",
       "      <td>0.9424</td>\n",
       "      <td>0.9986</td>\n",
       "      <td>0.9699</td>\n",
       "      <td>1.0000</td>\n",
       "      <td>0.8630</td>\n",
       "      <td>...</td>\n",
       "      <td>0.7717</td>\n",
       "      <td>0.7305</td>\n",
       "      <td>0.5197</td>\n",
       "      <td>0.1786</td>\n",
       "      <td>0.1098</td>\n",
       "      <td>0.1446</td>\n",
       "      <td>0.1066</td>\n",
       "      <td>0.1440</td>\n",
       "      <td>0.1929</td>\n",
       "      <td>0.0325</td>\n",
       "    </tr>\n",
       "    <tr>\n",
       "      <td>2</td>\n",
       "      <td>64.0</td>\n",
       "      <td>0.5911</td>\n",
       "      <td>0.6566</td>\n",
       "      <td>0.6308</td>\n",
       "      <td>0.5998</td>\n",
       "      <td>0.4958</td>\n",
       "      <td>0.5647</td>\n",
       "      <td>0.6906</td>\n",
       "      <td>0.8513</td>\n",
       "      <td>1.0000</td>\n",
       "      <td>...</td>\n",
       "      <td>0.7676</td>\n",
       "      <td>0.6177</td>\n",
       "      <td>0.5468</td>\n",
       "      <td>0.5516</td>\n",
       "      <td>0.5463</td>\n",
       "      <td>0.5515</td>\n",
       "      <td>0.4561</td>\n",
       "      <td>0.3466</td>\n",
       "      <td>0.3384</td>\n",
       "      <td>0.2853</td>\n",
       "    </tr>\n",
       "    <tr>\n",
       "      <td>3</td>\n",
       "      <td>70.0</td>\n",
       "      <td>0.2005</td>\n",
       "      <td>0.1571</td>\n",
       "      <td>0.2605</td>\n",
       "      <td>0.5386</td>\n",
       "      <td>0.8440</td>\n",
       "      <td>1.0000</td>\n",
       "      <td>0.8684</td>\n",
       "      <td>0.6742</td>\n",
       "      <td>0.5537</td>\n",
       "      <td>...</td>\n",
       "      <td>0.3609</td>\n",
       "      <td>0.2055</td>\n",
       "      <td>0.1620</td>\n",
       "      <td>0.2092</td>\n",
       "      <td>0.3100</td>\n",
       "      <td>0.2344</td>\n",
       "      <td>0.1058</td>\n",
       "      <td>0.0383</td>\n",
       "      <td>0.0528</td>\n",
       "      <td>0.1291</td>\n",
       "    </tr>\n",
       "    <tr>\n",
       "      <td>4</td>\n",
       "      <td>182.0</td>\n",
       "      <td>0.6802</td>\n",
       "      <td>0.6320</td>\n",
       "      <td>0.5824</td>\n",
       "      <td>0.6805</td>\n",
       "      <td>0.5984</td>\n",
       "      <td>0.8412</td>\n",
       "      <td>0.9911</td>\n",
       "      <td>0.9187</td>\n",
       "      <td>0.8005</td>\n",
       "      <td>...</td>\n",
       "      <td>0.5632</td>\n",
       "      <td>0.7332</td>\n",
       "      <td>0.6038</td>\n",
       "      <td>0.2575</td>\n",
       "      <td>0.0349</td>\n",
       "      <td>0.1799</td>\n",
       "      <td>0.3039</td>\n",
       "      <td>0.4760</td>\n",
       "      <td>0.5756</td>\n",
       "      <td>0.4254</td>\n",
       "    </tr>\n",
       "  </tbody>\n",
       "</table>\n",
       "<p>5 rows × 21 columns</p>\n",
       "</div>"
      ],
      "text/plain": [
       "      ID     V21     V22     V23     V24     V25     V26     V27     V28  \\\n",
       "0   83.0  0.7561  0.8217  0.6967  0.6444  0.6948  0.8014  0.6053  0.6084   \n",
       "1  206.0  0.3164  0.5888  0.7631  0.8473  0.9424  0.9986  0.9699  1.0000   \n",
       "2   64.0  0.5911  0.6566  0.6308  0.5998  0.4958  0.5647  0.6906  0.8513   \n",
       "3   70.0  0.2005  0.1571  0.2605  0.5386  0.8440  1.0000  0.8684  0.6742   \n",
       "4  182.0  0.6802  0.6320  0.5824  0.6805  0.5984  0.8412  0.9911  0.9187   \n",
       "\n",
       "      V29  ...     V31     V32     V33     V34     V35     V36     V37  \\\n",
       "0  0.8877  ...  0.5563  0.2897  0.3638  0.4786  0.2908  0.0899  0.2043   \n",
       "1  0.8630  ...  0.7717  0.7305  0.5197  0.1786  0.1098  0.1446  0.1066   \n",
       "2  1.0000  ...  0.7676  0.6177  0.5468  0.5516  0.5463  0.5515  0.4561   \n",
       "3  0.5537  ...  0.3609  0.2055  0.1620  0.2092  0.3100  0.2344  0.1058   \n",
       "4  0.8005  ...  0.5632  0.7332  0.6038  0.2575  0.0349  0.1799  0.3039   \n",
       "\n",
       "      V38     V39     V40  \n",
       "0  0.1707  0.0407  0.1286  \n",
       "1  0.1440  0.1929  0.0325  \n",
       "2  0.3466  0.3384  0.2853  \n",
       "3  0.0383  0.0528  0.1291  \n",
       "4  0.4760  0.5756  0.4254  \n",
       "\n",
       "[5 rows x 21 columns]"
      ]
     },
     "execution_count": 6,
     "metadata": {},
     "output_type": "execute_result"
    }
   ],
   "source": [
    "data2.head()"
   ]
  },
  {
   "cell_type": "code",
   "execution_count": 7,
   "metadata": {},
   "outputs": [],
   "source": [
    "data2=data2.astype({'ID':int})"
   ]
  },
  {
   "cell_type": "code",
   "execution_count": 8,
   "metadata": {},
   "outputs": [
    {
     "data": {
      "text/html": [
       "<div>\n",
       "<style scoped>\n",
       "    .dataframe tbody tr th:only-of-type {\n",
       "        vertical-align: middle;\n",
       "    }\n",
       "\n",
       "    .dataframe tbody tr th {\n",
       "        vertical-align: top;\n",
       "    }\n",
       "\n",
       "    .dataframe thead th {\n",
       "        text-align: right;\n",
       "    }\n",
       "</style>\n",
       "<table border=\"1\" class=\"dataframe\">\n",
       "  <thead>\n",
       "    <tr style=\"text-align: right;\">\n",
       "      <th></th>\n",
       "      <th>ID</th>\n",
       "      <th>V21</th>\n",
       "      <th>V22</th>\n",
       "      <th>V23</th>\n",
       "      <th>V24</th>\n",
       "      <th>V25</th>\n",
       "      <th>V26</th>\n",
       "      <th>V27</th>\n",
       "      <th>V28</th>\n",
       "      <th>V29</th>\n",
       "      <th>...</th>\n",
       "      <th>V31</th>\n",
       "      <th>V32</th>\n",
       "      <th>V33</th>\n",
       "      <th>V34</th>\n",
       "      <th>V35</th>\n",
       "      <th>V36</th>\n",
       "      <th>V37</th>\n",
       "      <th>V38</th>\n",
       "      <th>V39</th>\n",
       "      <th>V40</th>\n",
       "    </tr>\n",
       "  </thead>\n",
       "  <tbody>\n",
       "    <tr>\n",
       "      <td>0</td>\n",
       "      <td>83</td>\n",
       "      <td>0.7561</td>\n",
       "      <td>0.8217</td>\n",
       "      <td>0.6967</td>\n",
       "      <td>0.6444</td>\n",
       "      <td>0.6948</td>\n",
       "      <td>0.8014</td>\n",
       "      <td>0.6053</td>\n",
       "      <td>0.6084</td>\n",
       "      <td>0.8877</td>\n",
       "      <td>...</td>\n",
       "      <td>0.5563</td>\n",
       "      <td>0.2897</td>\n",
       "      <td>0.3638</td>\n",
       "      <td>0.4786</td>\n",
       "      <td>0.2908</td>\n",
       "      <td>0.0899</td>\n",
       "      <td>0.2043</td>\n",
       "      <td>0.1707</td>\n",
       "      <td>0.0407</td>\n",
       "      <td>0.1286</td>\n",
       "    </tr>\n",
       "    <tr>\n",
       "      <td>1</td>\n",
       "      <td>206</td>\n",
       "      <td>0.3164</td>\n",
       "      <td>0.5888</td>\n",
       "      <td>0.7631</td>\n",
       "      <td>0.8473</td>\n",
       "      <td>0.9424</td>\n",
       "      <td>0.9986</td>\n",
       "      <td>0.9699</td>\n",
       "      <td>1.0000</td>\n",
       "      <td>0.8630</td>\n",
       "      <td>...</td>\n",
       "      <td>0.7717</td>\n",
       "      <td>0.7305</td>\n",
       "      <td>0.5197</td>\n",
       "      <td>0.1786</td>\n",
       "      <td>0.1098</td>\n",
       "      <td>0.1446</td>\n",
       "      <td>0.1066</td>\n",
       "      <td>0.1440</td>\n",
       "      <td>0.1929</td>\n",
       "      <td>0.0325</td>\n",
       "    </tr>\n",
       "    <tr>\n",
       "      <td>2</td>\n",
       "      <td>64</td>\n",
       "      <td>0.5911</td>\n",
       "      <td>0.6566</td>\n",
       "      <td>0.6308</td>\n",
       "      <td>0.5998</td>\n",
       "      <td>0.4958</td>\n",
       "      <td>0.5647</td>\n",
       "      <td>0.6906</td>\n",
       "      <td>0.8513</td>\n",
       "      <td>1.0000</td>\n",
       "      <td>...</td>\n",
       "      <td>0.7676</td>\n",
       "      <td>0.6177</td>\n",
       "      <td>0.5468</td>\n",
       "      <td>0.5516</td>\n",
       "      <td>0.5463</td>\n",
       "      <td>0.5515</td>\n",
       "      <td>0.4561</td>\n",
       "      <td>0.3466</td>\n",
       "      <td>0.3384</td>\n",
       "      <td>0.2853</td>\n",
       "    </tr>\n",
       "    <tr>\n",
       "      <td>3</td>\n",
       "      <td>70</td>\n",
       "      <td>0.2005</td>\n",
       "      <td>0.1571</td>\n",
       "      <td>0.2605</td>\n",
       "      <td>0.5386</td>\n",
       "      <td>0.8440</td>\n",
       "      <td>1.0000</td>\n",
       "      <td>0.8684</td>\n",
       "      <td>0.6742</td>\n",
       "      <td>0.5537</td>\n",
       "      <td>...</td>\n",
       "      <td>0.3609</td>\n",
       "      <td>0.2055</td>\n",
       "      <td>0.1620</td>\n",
       "      <td>0.2092</td>\n",
       "      <td>0.3100</td>\n",
       "      <td>0.2344</td>\n",
       "      <td>0.1058</td>\n",
       "      <td>0.0383</td>\n",
       "      <td>0.0528</td>\n",
       "      <td>0.1291</td>\n",
       "    </tr>\n",
       "    <tr>\n",
       "      <td>4</td>\n",
       "      <td>182</td>\n",
       "      <td>0.6802</td>\n",
       "      <td>0.6320</td>\n",
       "      <td>0.5824</td>\n",
       "      <td>0.6805</td>\n",
       "      <td>0.5984</td>\n",
       "      <td>0.8412</td>\n",
       "      <td>0.9911</td>\n",
       "      <td>0.9187</td>\n",
       "      <td>0.8005</td>\n",
       "      <td>...</td>\n",
       "      <td>0.5632</td>\n",
       "      <td>0.7332</td>\n",
       "      <td>0.6038</td>\n",
       "      <td>0.2575</td>\n",
       "      <td>0.0349</td>\n",
       "      <td>0.1799</td>\n",
       "      <td>0.3039</td>\n",
       "      <td>0.4760</td>\n",
       "      <td>0.5756</td>\n",
       "      <td>0.4254</td>\n",
       "    </tr>\n",
       "  </tbody>\n",
       "</table>\n",
       "<p>5 rows × 21 columns</p>\n",
       "</div>"
      ],
      "text/plain": [
       "    ID     V21     V22     V23     V24     V25     V26     V27     V28  \\\n",
       "0   83  0.7561  0.8217  0.6967  0.6444  0.6948  0.8014  0.6053  0.6084   \n",
       "1  206  0.3164  0.5888  0.7631  0.8473  0.9424  0.9986  0.9699  1.0000   \n",
       "2   64  0.5911  0.6566  0.6308  0.5998  0.4958  0.5647  0.6906  0.8513   \n",
       "3   70  0.2005  0.1571  0.2605  0.5386  0.8440  1.0000  0.8684  0.6742   \n",
       "4  182  0.6802  0.6320  0.5824  0.6805  0.5984  0.8412  0.9911  0.9187   \n",
       "\n",
       "      V29  ...     V31     V32     V33     V34     V35     V36     V37  \\\n",
       "0  0.8877  ...  0.5563  0.2897  0.3638  0.4786  0.2908  0.0899  0.2043   \n",
       "1  0.8630  ...  0.7717  0.7305  0.5197  0.1786  0.1098  0.1446  0.1066   \n",
       "2  1.0000  ...  0.7676  0.6177  0.5468  0.5516  0.5463  0.5515  0.4561   \n",
       "3  0.5537  ...  0.3609  0.2055  0.1620  0.2092  0.3100  0.2344  0.1058   \n",
       "4  0.8005  ...  0.5632  0.7332  0.6038  0.2575  0.0349  0.1799  0.3039   \n",
       "\n",
       "      V38     V39     V40  \n",
       "0  0.1707  0.0407  0.1286  \n",
       "1  0.1440  0.1929  0.0325  \n",
       "2  0.3466  0.3384  0.2853  \n",
       "3  0.0383  0.0528  0.1291  \n",
       "4  0.4760  0.5756  0.4254  \n",
       "\n",
       "[5 rows x 21 columns]"
      ]
     },
     "execution_count": 8,
     "metadata": {},
     "output_type": "execute_result"
    }
   ],
   "source": [
    "data2.head()"
   ]
  },
  {
   "cell_type": "markdown",
   "metadata": {},
   "source": [
    "b. datatypes in data2"
   ]
  },
  {
   "cell_type": "code",
   "execution_count": 9,
   "metadata": {},
   "outputs": [
    {
     "data": {
      "text/plain": [
       "ID       int32\n",
       "V21    float64\n",
       "V22    float64\n",
       "V23    float64\n",
       "V24    float64\n",
       "V25    float64\n",
       "V26    float64\n",
       "V27    float64\n",
       "V28    float64\n",
       "V29    float64\n",
       "V30    float64\n",
       "V31    float64\n",
       "V32    float64\n",
       "V33    float64\n",
       "V34    float64\n",
       "V35    float64\n",
       "V36    float64\n",
       "V37    float64\n",
       "V38    float64\n",
       "V39    float64\n",
       "V40    float64\n",
       "dtype: object"
      ]
     },
     "execution_count": 9,
     "metadata": {},
     "output_type": "execute_result"
    }
   ],
   "source": [
    "data2.dtypes"
   ]
  },
  {
   "cell_type": "markdown",
   "metadata": {},
   "source": [
    "Read data3.json"
   ]
  },
  {
   "cell_type": "code",
   "execution_count": 10,
   "metadata": {},
   "outputs": [],
   "source": [
    "data3 = pd.read_json(r\"C:\\Users\\srika\\OneDrive\\Desktop\\Spring_21\\Freddie_Mac\\data3.json\")"
   ]
  },
  {
   "cell_type": "code",
   "execution_count": 11,
   "metadata": {},
   "outputs": [
    {
     "data": {
      "text/html": [
       "<div>\n",
       "<style scoped>\n",
       "    .dataframe tbody tr th:only-of-type {\n",
       "        vertical-align: middle;\n",
       "    }\n",
       "\n",
       "    .dataframe tbody tr th {\n",
       "        vertical-align: top;\n",
       "    }\n",
       "\n",
       "    .dataframe thead th {\n",
       "        text-align: right;\n",
       "    }\n",
       "</style>\n",
       "<table border=\"1\" class=\"dataframe\">\n",
       "  <thead>\n",
       "    <tr style=\"text-align: right;\">\n",
       "      <th></th>\n",
       "      <th>ID</th>\n",
       "      <th>V41</th>\n",
       "      <th>V42</th>\n",
       "      <th>V43</th>\n",
       "      <th>V44</th>\n",
       "      <th>V45</th>\n",
       "      <th>V46</th>\n",
       "      <th>V47</th>\n",
       "      <th>V48</th>\n",
       "      <th>V49</th>\n",
       "      <th>...</th>\n",
       "      <th>V52</th>\n",
       "      <th>V53</th>\n",
       "      <th>V54</th>\n",
       "      <th>V55</th>\n",
       "      <th>V56</th>\n",
       "      <th>V57</th>\n",
       "      <th>V58</th>\n",
       "      <th>V59</th>\n",
       "      <th>V60</th>\n",
       "      <th>Class</th>\n",
       "    </tr>\n",
       "  </thead>\n",
       "  <tbody>\n",
       "    <tr>\n",
       "      <td>0</td>\n",
       "      <td>20</td>\n",
       "      <td>0.3051</td>\n",
       "      <td>0.0836</td>\n",
       "      <td>0.1266</td>\n",
       "      <td>0.1381</td>\n",
       "      <td>0.1136</td>\n",
       "      <td>0.0516</td>\n",
       "      <td>0.0073</td>\n",
       "      <td>0.0278</td>\n",
       "      <td>0.0372</td>\n",
       "      <td>...</td>\n",
       "      <td>0.0092</td>\n",
       "      <td>0.0035</td>\n",
       "      <td>0.0098</td>\n",
       "      <td>0.0121</td>\n",
       "      <td>0.0006</td>\n",
       "      <td>0.0181</td>\n",
       "      <td>0.0094</td>\n",
       "      <td>0.0116</td>\n",
       "      <td>0.0063</td>\n",
       "      <td>R</td>\n",
       "    </tr>\n",
       "    <tr>\n",
       "      <td>1</td>\n",
       "      <td>2</td>\n",
       "      <td>0.1674</td>\n",
       "      <td>0.0583</td>\n",
       "      <td>0.1401</td>\n",
       "      <td>0.1628</td>\n",
       "      <td>0.0621</td>\n",
       "      <td>0.0203</td>\n",
       "      <td>0.0530</td>\n",
       "      <td>0.0742</td>\n",
       "      <td>0.0409</td>\n",
       "      <td>...</td>\n",
       "      <td>0.0084</td>\n",
       "      <td>0.0089</td>\n",
       "      <td>0.0048</td>\n",
       "      <td>0.0094</td>\n",
       "      <td>0.0191</td>\n",
       "      <td>0.0140</td>\n",
       "      <td>0.0049</td>\n",
       "      <td>0.0052</td>\n",
       "      <td>0.0044</td>\n",
       "      <td>R</td>\n",
       "    </tr>\n",
       "    <tr>\n",
       "      <td>2</td>\n",
       "      <td>38</td>\n",
       "      <td>0.1994</td>\n",
       "      <td>0.1883</td>\n",
       "      <td>0.2746</td>\n",
       "      <td>0.1651</td>\n",
       "      <td>0.0575</td>\n",
       "      <td>0.0695</td>\n",
       "      <td>0.0598</td>\n",
       "      <td>0.0456</td>\n",
       "      <td>0.0021</td>\n",
       "      <td>...</td>\n",
       "      <td>0.0022</td>\n",
       "      <td>0.0032</td>\n",
       "      <td>0.0060</td>\n",
       "      <td>0.0054</td>\n",
       "      <td>0.0063</td>\n",
       "      <td>0.0143</td>\n",
       "      <td>0.0132</td>\n",
       "      <td>0.0051</td>\n",
       "      <td>0.0041</td>\n",
       "      <td>R</td>\n",
       "    </tr>\n",
       "    <tr>\n",
       "      <td>3</td>\n",
       "      <td>104</td>\n",
       "      <td>0.0745</td>\n",
       "      <td>0.1395</td>\n",
       "      <td>0.1552</td>\n",
       "      <td>0.0377</td>\n",
       "      <td>0.0636</td>\n",
       "      <td>0.0443</td>\n",
       "      <td>0.0264</td>\n",
       "      <td>0.0223</td>\n",
       "      <td>0.0187</td>\n",
       "      <td>...</td>\n",
       "      <td>0.0071</td>\n",
       "      <td>0.0082</td>\n",
       "      <td>0.0232</td>\n",
       "      <td>0.0198</td>\n",
       "      <td>0.0074</td>\n",
       "      <td>0.0035</td>\n",
       "      <td>0.0100</td>\n",
       "      <td>0.0048</td>\n",
       "      <td>0.0019</td>\n",
       "      <td>M</td>\n",
       "    </tr>\n",
       "    <tr>\n",
       "      <td>4</td>\n",
       "      <td>8</td>\n",
       "      <td>0.1151</td>\n",
       "      <td>0.2196</td>\n",
       "      <td>0.1879</td>\n",
       "      <td>0.1437</td>\n",
       "      <td>0.2146</td>\n",
       "      <td>0.2360</td>\n",
       "      <td>0.1125</td>\n",
       "      <td>0.0254</td>\n",
       "      <td>0.0285</td>\n",
       "      <td>...</td>\n",
       "      <td>0.0081</td>\n",
       "      <td>0.0120</td>\n",
       "      <td>0.0045</td>\n",
       "      <td>0.0121</td>\n",
       "      <td>0.0097</td>\n",
       "      <td>0.0085</td>\n",
       "      <td>0.0047</td>\n",
       "      <td>0.0048</td>\n",
       "      <td>0.0053</td>\n",
       "      <td>R</td>\n",
       "    </tr>\n",
       "  </tbody>\n",
       "</table>\n",
       "<p>5 rows × 22 columns</p>\n",
       "</div>"
      ],
      "text/plain": [
       "    ID     V41     V42     V43     V44     V45     V46     V47     V48  \\\n",
       "0   20  0.3051  0.0836  0.1266  0.1381  0.1136  0.0516  0.0073  0.0278   \n",
       "1    2  0.1674  0.0583  0.1401  0.1628  0.0621  0.0203  0.0530  0.0742   \n",
       "2   38  0.1994  0.1883  0.2746  0.1651  0.0575  0.0695  0.0598  0.0456   \n",
       "3  104  0.0745  0.1395  0.1552  0.0377  0.0636  0.0443  0.0264  0.0223   \n",
       "4    8  0.1151  0.2196  0.1879  0.1437  0.2146  0.2360  0.1125  0.0254   \n",
       "\n",
       "      V49  ...     V52     V53     V54     V55     V56     V57     V58  \\\n",
       "0  0.0372  ...  0.0092  0.0035  0.0098  0.0121  0.0006  0.0181  0.0094   \n",
       "1  0.0409  ...  0.0084  0.0089  0.0048  0.0094  0.0191  0.0140  0.0049   \n",
       "2  0.0021  ...  0.0022  0.0032  0.0060  0.0054  0.0063  0.0143  0.0132   \n",
       "3  0.0187  ...  0.0071  0.0082  0.0232  0.0198  0.0074  0.0035  0.0100   \n",
       "4  0.0285  ...  0.0081  0.0120  0.0045  0.0121  0.0097  0.0085  0.0047   \n",
       "\n",
       "      V59     V60  Class  \n",
       "0  0.0116  0.0063      R  \n",
       "1  0.0052  0.0044      R  \n",
       "2  0.0051  0.0041      R  \n",
       "3  0.0048  0.0019      M  \n",
       "4  0.0048  0.0053      R  \n",
       "\n",
       "[5 rows x 22 columns]"
      ]
     },
     "execution_count": 11,
     "metadata": {},
     "output_type": "execute_result"
    }
   ],
   "source": [
    "data3.head()"
   ]
  },
  {
   "cell_type": "markdown",
   "metadata": {},
   "source": [
    "c. datatypes in data3"
   ]
  },
  {
   "cell_type": "code",
   "execution_count": 12,
   "metadata": {},
   "outputs": [],
   "source": [
    "data3=data3.astype({'ID':int})"
   ]
  },
  {
   "cell_type": "code",
   "execution_count": 13,
   "metadata": {},
   "outputs": [
    {
     "data": {
      "text/plain": [
       "ID         int32\n",
       "V41      float64\n",
       "V42      float64\n",
       "V43      float64\n",
       "V44      float64\n",
       "V45      float64\n",
       "V46      float64\n",
       "V47      float64\n",
       "V48      float64\n",
       "V49      float64\n",
       "V50      float64\n",
       "V51      float64\n",
       "V52      float64\n",
       "V53      float64\n",
       "V54      float64\n",
       "V55      float64\n",
       "V56      float64\n",
       "V57      float64\n",
       "V58      float64\n",
       "V59      float64\n",
       "V60      float64\n",
       "Class     object\n",
       "dtype: object"
      ]
     },
     "execution_count": 13,
     "metadata": {},
     "output_type": "execute_result"
    }
   ],
   "source": [
    "data3.dtypes"
   ]
  },
  {
   "cell_type": "code",
   "execution_count": 14,
   "metadata": {},
   "outputs": [],
   "source": [
    "data3.Class=data3.Class.astype(str)"
   ]
  },
  {
   "cell_type": "code",
   "execution_count": 15,
   "metadata": {},
   "outputs": [],
   "source": [
    "data3.Class=data3.Class.astype('category')"
   ]
  },
  {
   "cell_type": "code",
   "execution_count": 16,
   "metadata": {},
   "outputs": [
    {
     "data": {
      "text/plain": [
       "ID          int32\n",
       "V41       float64\n",
       "V42       float64\n",
       "V43       float64\n",
       "V44       float64\n",
       "V45       float64\n",
       "V46       float64\n",
       "V47       float64\n",
       "V48       float64\n",
       "V49       float64\n",
       "V50       float64\n",
       "V51       float64\n",
       "V52       float64\n",
       "V53       float64\n",
       "V54       float64\n",
       "V55       float64\n",
       "V56       float64\n",
       "V57       float64\n",
       "V58       float64\n",
       "V59       float64\n",
       "V60       float64\n",
       "Class    category\n",
       "dtype: object"
      ]
     },
     "execution_count": 16,
     "metadata": {},
     "output_type": "execute_result"
    }
   ],
   "source": [
    "data3.dtypes"
   ]
  },
  {
   "cell_type": "markdown",
   "metadata": {},
   "source": [
    "2. Merge datasets"
   ]
  },
  {
   "cell_type": "code",
   "execution_count": 19,
   "metadata": {},
   "outputs": [
    {
     "name": "stdout",
     "output_type": "stream",
     "text": [
      "Rows : 208 Columns: 62\n"
     ]
    }
   ],
   "source": [
    "# df_xml_1['ID'] = pd.to_numeric(df_xml_1['ID'],errors='coerce')\n",
    "df_merged = data1.merge(data2, how='left', left_on='ID', right_on='ID').merge(data3, how='left', left_on='ID', right_on='ID')\n",
    "df_merged.head()\n",
    "rows, columns = df_merged.shape\n",
    "print(\"Rows : {0} Columns: {1}\".format(rows, columns))"
   ]
  },
  {
   "cell_type": "code",
   "execution_count": 20,
   "metadata": {},
   "outputs": [
    {
     "data": {
      "text/plain": [
       "62"
      ]
     },
     "execution_count": 20,
     "metadata": {},
     "output_type": "execute_result"
    }
   ],
   "source": [
    "len(df_merged.columns)"
   ]
  },
  {
   "cell_type": "markdown",
   "metadata": {},
   "source": [
    "a. Number of rows and columns in dataframe:\n",
    " Rows: 207\n",
    " Columns: 62"
   ]
  },
  {
   "cell_type": "code",
   "execution_count": 21,
   "metadata": {},
   "outputs": [
    {
     "data": {
      "text/plain": [
       "V37    4\n",
       "V43    3\n",
       "V38    1\n",
       "V36    1\n",
       "V35    1\n",
       "      ..\n",
       "V15    0\n",
       "V16    0\n",
       "V18    0\n",
       "V20    0\n",
       "ID     0\n",
       "Length: 62, dtype: int64"
      ]
     },
     "execution_count": 21,
     "metadata": {},
     "output_type": "execute_result"
    }
   ],
   "source": [
    "df_merged.isnull().sum().sort_values(ascending=False)"
   ]
  },
  {
   "cell_type": "code",
   "execution_count": 23,
   "metadata": {},
   "outputs": [],
   "source": [
    "df_final=df_merged"
   ]
  },
  {
   "cell_type": "markdown",
   "metadata": {},
   "source": [
    "Columns containing missing values"
   ]
  },
  {
   "cell_type": "code",
   "execution_count": 24,
   "metadata": {},
   "outputs": [
    {
     "data": {
      "text/plain": [
       "V37    4\n",
       "V43    3\n",
       "V38    1\n",
       "V36    1\n",
       "V35    1\n",
       "      ..\n",
       "V15    0\n",
       "V16    0\n",
       "V18    0\n",
       "V20    0\n",
       "ID     0\n",
       "Length: 62, dtype: int64"
      ]
     },
     "execution_count": 24,
     "metadata": {},
     "output_type": "execute_result"
    }
   ],
   "source": [
    "df_final.isnull().sum().sort_values(ascending=False)"
   ]
  },
  {
   "cell_type": "code",
   "execution_count": 25,
   "metadata": {},
   "outputs": [],
   "source": [
    "df_duplicated=df_final[df_final.duplicated()]"
   ]
  },
  {
   "cell_type": "markdown",
   "metadata": {},
   "source": [
    "duplicate records marked"
   ]
  },
  {
   "cell_type": "code",
   "execution_count": 26,
   "metadata": {},
   "outputs": [
    {
     "data": {
      "text/html": [
       "<div>\n",
       "<style scoped>\n",
       "    .dataframe tbody tr th:only-of-type {\n",
       "        vertical-align: middle;\n",
       "    }\n",
       "\n",
       "    .dataframe tbody tr th {\n",
       "        vertical-align: top;\n",
       "    }\n",
       "\n",
       "    .dataframe thead th {\n",
       "        text-align: right;\n",
       "    }\n",
       "</style>\n",
       "<table border=\"1\" class=\"dataframe\">\n",
       "  <thead>\n",
       "    <tr style=\"text-align: right;\">\n",
       "      <th></th>\n",
       "      <th>ID</th>\n",
       "      <th>V1</th>\n",
       "      <th>V2</th>\n",
       "      <th>V3</th>\n",
       "      <th>V4</th>\n",
       "      <th>V5</th>\n",
       "      <th>V6</th>\n",
       "      <th>V7</th>\n",
       "      <th>V8</th>\n",
       "      <th>V9</th>\n",
       "      <th>...</th>\n",
       "      <th>V52</th>\n",
       "      <th>V53</th>\n",
       "      <th>V54</th>\n",
       "      <th>V55</th>\n",
       "      <th>V56</th>\n",
       "      <th>V57</th>\n",
       "      <th>V58</th>\n",
       "      <th>V59</th>\n",
       "      <th>V60</th>\n",
       "      <th>Class</th>\n",
       "    </tr>\n",
       "  </thead>\n",
       "  <tbody>\n",
       "  </tbody>\n",
       "</table>\n",
       "<p>0 rows × 62 columns</p>\n",
       "</div>"
      ],
      "text/plain": [
       "Empty DataFrame\n",
       "Columns: [ID, V1, V2, V3, V4, V5, V6, V7, V8, V9, V10, V11, V12, V13, V14, V15, V16, V17, V18, V19, V20, V21, V22, V23, V24, V25, V26, V27, V28, V29, V30, V31, V32, V33, V34, V35, V36, V37, V38, V39, V40, V41, V42, V43, V44, V45, V46, V47, V48, V49, V50, V51, V52, V53, V54, V55, V56, V57, V58, V59, V60, Class]\n",
       "Index: []\n",
       "\n",
       "[0 rows x 62 columns]"
      ]
     },
     "execution_count": 26,
     "metadata": {},
     "output_type": "execute_result"
    }
   ],
   "source": [
    "df_duplicated"
   ]
  },
  {
   "cell_type": "markdown",
   "metadata": {},
   "source": [
    "3. New data set from the merge data set "
   ]
  },
  {
   "cell_type": "code",
   "execution_count": 27,
   "metadata": {},
   "outputs": [],
   "source": [
    "df=df_merged.dropna()"
   ]
  },
  {
   "cell_type": "markdown",
   "metadata": {},
   "source": [
    "Rows in new data set"
   ]
  },
  {
   "cell_type": "code",
   "execution_count": 28,
   "metadata": {},
   "outputs": [
    {
     "data": {
      "text/plain": [
       "202"
      ]
     },
     "execution_count": 28,
     "metadata": {},
     "output_type": "execute_result"
    }
   ],
   "source": [
    "len(df)"
   ]
  },
  {
   "cell_type": "markdown",
   "metadata": {},
   "source": [
    "b. Percentage of rows contains “M” vs “R” in the Class attribute"
   ]
  },
  {
   "cell_type": "code",
   "execution_count": 29,
   "metadata": {},
   "outputs": [],
   "source": [
    "df_R=df[df['Class']=='R']"
   ]
  },
  {
   "cell_type": "code",
   "execution_count": 30,
   "metadata": {},
   "outputs": [
    {
     "data": {
      "text/plain": [
       "96"
      ]
     },
     "execution_count": 30,
     "metadata": {},
     "output_type": "execute_result"
    }
   ],
   "source": [
    "len(df_R)"
   ]
  },
  {
   "cell_type": "markdown",
   "metadata": {},
   "source": [
    "Percentage of R = (96/202)*100 = 47.5"
   ]
  },
  {
   "cell_type": "code",
   "execution_count": 31,
   "metadata": {},
   "outputs": [],
   "source": [
    "df_M=df[df['Class']=='M']"
   ]
  },
  {
   "cell_type": "code",
   "execution_count": 32,
   "metadata": {},
   "outputs": [
    {
     "data": {
      "text/plain": [
       "106"
      ]
     },
     "execution_count": 32,
     "metadata": {},
     "output_type": "execute_result"
    }
   ],
   "source": [
    "len(df_M)"
   ]
  },
  {
   "cell_type": "markdown",
   "metadata": {},
   "source": [
    "Percentage of M = (106/202)*100 = 52.5"
   ]
  },
  {
   "cell_type": "markdown",
   "metadata": {},
   "source": [
    "Calculating minimum, 1st quartile, median, mean, 3rd quartile, maximum for the following attributes: V1, V2, V30, V40, V50 and V60"
   ]
  },
  {
   "cell_type": "code",
   "execution_count": 33,
   "metadata": {},
   "outputs": [],
   "source": [
    "def calc_stats(df):\n",
    "    for val in ['V1','V2','V30','V40','V50','V60']:\n",
    "        print(\"stats for {}\".format(val))\n",
    "        print(\"minimum - {}\".format(df[val].min()))\n",
    "        print(\"1st quantle - {}\".format(df[val].quantile(0.25)))\n",
    "        print(\"median - {}\".format(df[val].median()))\n",
    "        print(\"mean - {}\".format(df[val].mean()))\n",
    "        print(\"3rd quantile - {}\".format(df[val].quantile(0.75)))\n",
    "        print(\"maximum - {}\".format(df[val].max()))\n",
    "        print(\"\\n\")"
   ]
  },
  {
   "cell_type": "code",
   "execution_count": 34,
   "metadata": {},
   "outputs": [
    {
     "name": "stdout",
     "output_type": "stream",
     "text": [
      "stats for V1\n",
      "minimum - 0.0015\n",
      "1st quantle - 0.013425\n",
      "median - 0.022850000000000002\n",
      "mean - 0.02943118811881188\n",
      "3rd quantile - 0.036449999999999996\n",
      "maximum - 0.1371\n",
      "\n",
      "\n",
      "stats for V2\n",
      "minimum - 0.0006\n",
      "1st quantle - 0.015549999999999998\n",
      "median - 0.0304\n",
      "mean - 0.03842673267326733\n",
      "3rd quantile - 0.04825\n",
      "maximum - 0.2339\n",
      "\n",
      "\n",
      "stats for V30\n",
      "minimum - 0.0613\n",
      "1st quantle - 0.4094\n",
      "median - 0.6071500000000001\n",
      "mean - 0.5820465346534653\n",
      "3rd quantile - 0.7410249999999999\n",
      "maximum - 1.0\n",
      "\n",
      "\n",
      "stats for V40\n",
      "minimum - 0.0117\n",
      "1st quantle - 0.18825000000000003\n",
      "median - 0.27805\n",
      "mean - 0.31270346534653465\n",
      "3rd quantile - 0.42505\n",
      "maximum - 0.9297\n",
      "\n",
      "\n",
      "stats for V50\n",
      "minimum - 0.0\n",
      "1st quantle - 0.01145\n",
      "median - 0.0179\n",
      "mean - 0.020528712871287134\n",
      "3rd quantile - 0.025625\n",
      "maximum - 0.0825\n",
      "\n",
      "\n",
      "stats for V60\n",
      "minimum - 0.0006000000000000001\n",
      "1st quantle - 0.0030250000000000003\n",
      "median - 0.0053\n",
      "mean - 0.0065089108910891084\n",
      "3rd quantile - 0.008575\n",
      "maximum - 0.0439\n",
      "\n",
      "\n"
     ]
    }
   ],
   "source": [
    "calc_stats(df)"
   ]
  },
  {
   "cell_type": "code",
   "execution_count": 35,
   "metadata": {},
   "outputs": [],
   "source": [
    "df_corr=df.drop(labels=['ID','Class'],axis=1)"
   ]
  },
  {
   "cell_type": "code",
   "execution_count": 36,
   "metadata": {},
   "outputs": [
    {
     "data": {
      "text/plain": [
       "Index(['V1', 'V2', 'V3', 'V4', 'V5', 'V6', 'V7', 'V8', 'V9', 'V10', 'V11',\n",
       "       'V12', 'V13', 'V14', 'V15', 'V16', 'V17', 'V18', 'V19', 'V20', 'V21',\n",
       "       'V22', 'V23', 'V24', 'V25', 'V26', 'V27', 'V28', 'V29', 'V30', 'V31',\n",
       "       'V32', 'V33', 'V34', 'V35', 'V36', 'V37', 'V38', 'V39', 'V40', 'V41',\n",
       "       'V42', 'V43', 'V44', 'V45', 'V46', 'V47', 'V48', 'V49', 'V50', 'V51',\n",
       "       'V52', 'V53', 'V54', 'V55', 'V56', 'V57', 'V58', 'V59', 'V60'],\n",
       "      dtype='object')"
      ]
     },
     "execution_count": 36,
     "metadata": {},
     "output_type": "execute_result"
    }
   ],
   "source": [
    "df_corr.columns"
   ]
  },
  {
   "cell_type": "code",
   "execution_count": 37,
   "metadata": {},
   "outputs": [],
   "source": [
    "corr_matrix = df_corr.corr(method='pearson')"
   ]
  },
  {
   "cell_type": "code",
   "execution_count": 38,
   "metadata": {},
   "outputs": [],
   "source": [
    "sol = (corr_matrix.where(np.triu(np.ones(corr_matrix.shape), k=1).astype(np.bool)).stack().sort_values(ascending=False))"
   ]
  },
  {
   "cell_type": "code",
   "execution_count": 39,
   "metadata": {},
   "outputs": [],
   "source": [
    "Top_corr=[]\n",
    "for index, value in sol.items():\n",
    "    #print(index,value)\n",
    "    Top_corr.append((index,value))\n",
    "    "
   ]
  },
  {
   "cell_type": "markdown",
   "metadata": {},
   "source": [
    "\"Top 5” positively correlated attributes"
   ]
  },
  {
   "cell_type": "code",
   "execution_count": 455,
   "metadata": {},
   "outputs": [
    {
     "data": {
      "text/plain": [
       "[(('V17', 'V18'), 0.9275520783340534),\n",
       " (('V15', 'V16'), 0.9116174561601199),\n",
       " (('V20', 'V21'), 0.9057426871402563),\n",
       " (('V16', 'V17'), 0.9007035617790556),\n",
       " (('V48', 'V49'), 0.8939566227162542)]"
      ]
     },
     "execution_count": 455,
     "metadata": {},
     "output_type": "execute_result"
    }
   ],
   "source": [
    "Top_corr[:5]"
   ]
  },
  {
   "cell_type": "markdown",
   "metadata": {},
   "source": [
    "“Top 5” negatively correlated attributes"
   ]
  },
  {
   "cell_type": "code",
   "execution_count": 456,
   "metadata": {},
   "outputs": [
    {
     "data": {
      "text/plain": [
       "[(('V21', 'V31'), -0.5479897501369501),\n",
       " (('V20', 'V31'), -0.5341859630081619),\n",
       " (('V16', 'V29'), -0.4905650961881854),\n",
       " (('V18', 'V29'), -0.4904358245433887),\n",
       " (('V17', 'V29'), -0.48485571313986636)]"
      ]
     },
     "execution_count": 456,
     "metadata": {},
     "output_type": "execute_result"
    }
   ],
   "source": [
    "Top_corr[::-1][:5]"
   ]
  },
  {
   "cell_type": "markdown",
   "metadata": {},
   "source": [
    "Plots"
   ]
  },
  {
   "cell_type": "code",
   "execution_count": 457,
   "metadata": {},
   "outputs": [
    {
     "data": {
      "text/plain": [
       "<AxesSubplot:>"
      ]
     },
     "execution_count": 457,
     "metadata": {},
     "output_type": "execute_result"
    },
    {
     "data": {
      "image/png": "[encoded data removed]",
      "text/plain": [
       "<Figure size 432x288 with 1 Axes>"
      ]
     },
     "metadata": {
      "needs_background": "light"
     },
     "output_type": "display_data"
    }
   ],
   "source": [
    "df['V17'].hist()"
   ]
  },
  {
   "cell_type": "code",
   "execution_count": 458,
   "metadata": {},
   "outputs": [
    {
     "data": {
      "image/png": "[encoded data removed]",
      "text/plain": [
       "<Figure size 432x288 with 1 Axes>"
      ]
     },
     "metadata": {
      "needs_background": "light"
     },
     "output_type": "display_data"
    }
   ],
   "source": [
    "import seaborn as sns\n",
    "ax = sns.boxplot(x=\"Class\", y=\"V5\", data=df)"
   ]
  },
  {
   "cell_type": "code",
   "execution_count": 40,
   "metadata": {},
   "outputs": [
    {
     "name": "stderr",
     "output_type": "stream",
     "text": [
      "C:\\Python37\\lib\\site-packages\\ipykernel_launcher.py:1: SettingWithCopyWarning: \n",
      "A value is trying to be set on a copy of a slice from a DataFrame.\n",
      "Try using .loc[row_indexer,col_indexer] = value instead\n",
      "\n",
      "See the caveats in the documentation: http://pandas.pydata.org/pandas-docs/stable/user_guide/indexing.html#returning-a-view-versus-a-copy\n",
      "  \"\"\"Entry point for launching an IPython kernel.\n"
     ]
    },
    {
     "data": {
      "text/plain": [
       "<AxesSubplot:xlabel='V17', ylabel='V18'>"
      ]
     },
     "execution_count": 40,
     "metadata": {},
     "output_type": "execute_result"
    },
    {
     "data": {
      "image/png": "[encoded data removed]",
      "text/plain": [
       "<Figure size 432x288 with 1 Axes>"
      ]
     },
     "metadata": {
      "needs_background": "light"
     },
     "output_type": "display_data"
    }
   ],
   "source": [
    "df[\"V18\"] = pd.to_numeric(df[\"V18\"],errors='coerce')\n",
    "df.plot.scatter(x = 'V17', y = 'V18')"
   ]
  },
  {
   "cell_type": "markdown",
   "metadata": {},
   "source": [
    "Building Predictive model"
   ]
  },
  {
   "cell_type": "markdown",
   "metadata": {},
   "source": [
    "Data Collection: Data Frame(df) will be used"
   ]
  },
  {
   "cell_type": "markdown",
   "metadata": {},
   "source": [
    "Data Preprocessing: Already done as I have removed all the null value rows"
   ]
  },
  {
   "cell_type": "markdown",
   "metadata": {},
   "source": [
    "EDA: All the analysis is done in the above steps"
   ]
  },
  {
   "cell_type": "markdown",
   "metadata": {},
   "source": [
    "Model Building: Logistic Regression, Decision Trees, KNN, etc"
   ]
  },
  {
   "cell_type": "markdown",
   "metadata": {},
   "source": [
    "split data into train and test set to pass data into model"
   ]
  },
  {
   "cell_type": "code",
   "execution_count": 41,
   "metadata": {},
   "outputs": [],
   "source": [
    "import pandas as pd\n",
    "import numpy as np\n",
    "import seaborn as sns\n",
    "import matplotlib.pyplot as plt\n",
    "from scipy import stats\n",
    "from sklearn.linear_model import LogisticRegression\n",
    "from sklearn import svm\n",
    "from sklearn import tree\n",
    "from sklearn.ensemble import RandomForestClassifier\n",
    "from sklearn.neural_network import MLPClassifier\n",
    "from sklearn.ensemble import AdaBoostClassifier\n",
    "from sklearn.model_selection import cross_val_score\n",
    "from sklearn.metrics import accuracy_score\n",
    "from sklearn.metrics import roc_curve, auc\n",
    "from sklearn import metrics\n",
    "from sklearn.preprocessing import label_binarize"
   ]
  },
  {
   "cell_type": "code",
   "execution_count": 42,
   "metadata": {},
   "outputs": [],
   "source": [
    "from sklearn.metrics import confusion_matrix\n",
    "\n",
    "def model_eval(actual, pred):\n",
    "    \n",
    "#     confusion = pd.crosstab(actual, pred, rownames=['Actual'], colnames=['Predicted'])\n",
    "    TN, FP, FN, TP = confusion_matrix(actual, pred).ravel()\n",
    "#     TP = confusion.loc['>50K','>50K']\n",
    "#     TN = confusion.loc['<=50K','<=50K']\n",
    "#     FP = confusion.loc['<=50K','>50K']\n",
    "#     FN = confusion.loc['>50K','<=50K']\n",
    "    \n",
    "#     confusion = confusion_matrix(actual, pred)\n",
    "\n",
    "    accuracy = ((TP+TN))/(TP+FN+FP+TN)\n",
    "    precision = (TP)/(TP+FP)\n",
    "    recall = (TP)/(TP+FN)\n",
    "    f_measure = (2*recall*precision)/(recall+precision)\n",
    "    sensitivity = TP / (TP + FN)\n",
    "    specificity = TN / (TN + FP)\n",
    "    error_rate = 1 - accuracy\n",
    "    \n",
    "    metrics = {}\n",
    "    metrics['accuracy'] =  accuracy\n",
    "    metrics['precision'] = precision\n",
    "    metrics['recall'] = recall\n",
    "    metrics['f_measure'] = f_measure\n",
    "    metrics['sensitivity'] = sensitivity\n",
    "    metrics['specificity'] = specificity\n",
    "    metrics['error_rate'] = error_rate\n",
    "    metrics['confusion_matrix'] = confusion_matrix(actual, pred)\n",
    "    \n",
    "    return metrics"
   ]
  },
  {
   "cell_type": "code",
   "execution_count": 43,
   "metadata": {},
   "outputs": [
    {
     "data": {
      "text/html": [
       "<div>\n",
       "<style scoped>\n",
       "    .dataframe tbody tr th:only-of-type {\n",
       "        vertical-align: middle;\n",
       "    }\n",
       "\n",
       "    .dataframe tbody tr th {\n",
       "        vertical-align: top;\n",
       "    }\n",
       "\n",
       "    .dataframe thead th {\n",
       "        text-align: right;\n",
       "    }\n",
       "</style>\n",
       "<table border=\"1\" class=\"dataframe\">\n",
       "  <thead>\n",
       "    <tr style=\"text-align: right;\">\n",
       "      <th></th>\n",
       "      <th>ID</th>\n",
       "      <th>V1</th>\n",
       "      <th>V2</th>\n",
       "      <th>V3</th>\n",
       "      <th>V4</th>\n",
       "      <th>V5</th>\n",
       "      <th>V6</th>\n",
       "      <th>V7</th>\n",
       "      <th>V8</th>\n",
       "      <th>V9</th>\n",
       "      <th>...</th>\n",
       "      <th>V52</th>\n",
       "      <th>V53</th>\n",
       "      <th>V54</th>\n",
       "      <th>V55</th>\n",
       "      <th>V56</th>\n",
       "      <th>V57</th>\n",
       "      <th>V58</th>\n",
       "      <th>V59</th>\n",
       "      <th>V60</th>\n",
       "      <th>Class</th>\n",
       "    </tr>\n",
       "  </thead>\n",
       "  <tbody>\n",
       "    <tr>\n",
       "      <td>0</td>\n",
       "      <td>148</td>\n",
       "      <td>0.0654</td>\n",
       "      <td>0.0649</td>\n",
       "      <td>0.0737</td>\n",
       "      <td>0.1132</td>\n",
       "      <td>0.2482</td>\n",
       "      <td>0.1257</td>\n",
       "      <td>0.1797</td>\n",
       "      <td>0.0989</td>\n",
       "      <td>0.2460</td>\n",
       "      <td>...</td>\n",
       "      <td>0.0210</td>\n",
       "      <td>0.0361</td>\n",
       "      <td>0.0239</td>\n",
       "      <td>0.0447</td>\n",
       "      <td>0.0394</td>\n",
       "      <td>0.0355</td>\n",
       "      <td>0.0440</td>\n",
       "      <td>0.0243</td>\n",
       "      <td>0.0098</td>\n",
       "      <td>M</td>\n",
       "    </tr>\n",
       "    <tr>\n",
       "      <td>1</td>\n",
       "      <td>51</td>\n",
       "      <td>0.0353</td>\n",
       "      <td>0.0713</td>\n",
       "      <td>0.0326</td>\n",
       "      <td>0.0272</td>\n",
       "      <td>0.0370</td>\n",
       "      <td>0.0792</td>\n",
       "      <td>0.1083</td>\n",
       "      <td>0.0687</td>\n",
       "      <td>0.0298</td>\n",
       "      <td>...</td>\n",
       "      <td>0.0163</td>\n",
       "      <td>0.0242</td>\n",
       "      <td>0.0043</td>\n",
       "      <td>0.0202</td>\n",
       "      <td>0.0108</td>\n",
       "      <td>0.0037</td>\n",
       "      <td>0.0096</td>\n",
       "      <td>0.0093</td>\n",
       "      <td>0.0053</td>\n",
       "      <td>R</td>\n",
       "    </tr>\n",
       "    <tr>\n",
       "      <td>2</td>\n",
       "      <td>81</td>\n",
       "      <td>0.0229</td>\n",
       "      <td>0.0369</td>\n",
       "      <td>0.0040</td>\n",
       "      <td>0.0375</td>\n",
       "      <td>0.0455</td>\n",
       "      <td>0.1452</td>\n",
       "      <td>0.2211</td>\n",
       "      <td>0.1188</td>\n",
       "      <td>0.0750</td>\n",
       "      <td>...</td>\n",
       "      <td>0.0064</td>\n",
       "      <td>0.0022</td>\n",
       "      <td>0.0122</td>\n",
       "      <td>0.0151</td>\n",
       "      <td>0.0056</td>\n",
       "      <td>0.0026</td>\n",
       "      <td>0.0029</td>\n",
       "      <td>0.0104</td>\n",
       "      <td>0.0163</td>\n",
       "      <td>R</td>\n",
       "    </tr>\n",
       "    <tr>\n",
       "      <td>3</td>\n",
       "      <td>19</td>\n",
       "      <td>0.0270</td>\n",
       "      <td>0.0092</td>\n",
       "      <td>0.0145</td>\n",
       "      <td>0.0278</td>\n",
       "      <td>0.0412</td>\n",
       "      <td>0.0757</td>\n",
       "      <td>0.1026</td>\n",
       "      <td>0.1138</td>\n",
       "      <td>0.0794</td>\n",
       "      <td>...</td>\n",
       "      <td>0.0084</td>\n",
       "      <td>0.0010</td>\n",
       "      <td>0.0018</td>\n",
       "      <td>0.0068</td>\n",
       "      <td>0.0039</td>\n",
       "      <td>0.0120</td>\n",
       "      <td>0.0132</td>\n",
       "      <td>0.0070</td>\n",
       "      <td>0.0088</td>\n",
       "      <td>R</td>\n",
       "    </tr>\n",
       "    <tr>\n",
       "      <td>4</td>\n",
       "      <td>197</td>\n",
       "      <td>0.0050</td>\n",
       "      <td>0.0017</td>\n",
       "      <td>0.0270</td>\n",
       "      <td>0.0450</td>\n",
       "      <td>0.0958</td>\n",
       "      <td>0.0830</td>\n",
       "      <td>0.0879</td>\n",
       "      <td>0.1220</td>\n",
       "      <td>0.1977</td>\n",
       "      <td>...</td>\n",
       "      <td>0.0165</td>\n",
       "      <td>0.0056</td>\n",
       "      <td>0.0010</td>\n",
       "      <td>0.0027</td>\n",
       "      <td>0.0062</td>\n",
       "      <td>0.0024</td>\n",
       "      <td>0.0063</td>\n",
       "      <td>0.0017</td>\n",
       "      <td>0.0028</td>\n",
       "      <td>M</td>\n",
       "    </tr>\n",
       "  </tbody>\n",
       "</table>\n",
       "<p>5 rows × 62 columns</p>\n",
       "</div>"
      ],
      "text/plain": [
       "    ID      V1      V2      V3      V4      V5      V6      V7      V8  \\\n",
       "0  148  0.0654  0.0649  0.0737  0.1132  0.2482  0.1257  0.1797  0.0989   \n",
       "1   51  0.0353  0.0713  0.0326  0.0272  0.0370  0.0792  0.1083  0.0687   \n",
       "2   81  0.0229  0.0369  0.0040  0.0375  0.0455  0.1452  0.2211  0.1188   \n",
       "3   19  0.0270  0.0092  0.0145  0.0278  0.0412  0.0757  0.1026  0.1138   \n",
       "4  197  0.0050  0.0017  0.0270  0.0450  0.0958  0.0830  0.0879  0.1220   \n",
       "\n",
       "       V9  ...     V52     V53     V54     V55     V56     V57     V58  \\\n",
       "0  0.2460  ...  0.0210  0.0361  0.0239  0.0447  0.0394  0.0355  0.0440   \n",
       "1  0.0298  ...  0.0163  0.0242  0.0043  0.0202  0.0108  0.0037  0.0096   \n",
       "2  0.0750  ...  0.0064  0.0022  0.0122  0.0151  0.0056  0.0026  0.0029   \n",
       "3  0.0794  ...  0.0084  0.0010  0.0018  0.0068  0.0039  0.0120  0.0132   \n",
       "4  0.1977  ...  0.0165  0.0056  0.0010  0.0027  0.0062  0.0024  0.0063   \n",
       "\n",
       "      V59     V60  Class  \n",
       "0  0.0243  0.0098      M  \n",
       "1  0.0093  0.0053      R  \n",
       "2  0.0104  0.0163      R  \n",
       "3  0.0070  0.0088      R  \n",
       "4  0.0017  0.0028      M  \n",
       "\n",
       "[5 rows x 62 columns]"
      ]
     },
     "execution_count": 43,
     "metadata": {},
     "output_type": "execute_result"
    }
   ],
   "source": [
    "df.head()"
   ]
  },
  {
   "cell_type": "code",
   "execution_count": 44,
   "metadata": {},
   "outputs": [
    {
     "data": {
      "text/plain": [
       "Index(['V1', 'V2', 'V3', 'V4', 'V5', 'V6', 'V7', 'V8', 'V9', 'V10', 'V11',\n",
       "       'V12', 'V13', 'V14', 'V15', 'V16', 'V17', 'V18', 'V19', 'V20', 'V21',\n",
       "       'V22', 'V23', 'V24', 'V25', 'V26', 'V27', 'V28', 'V29', 'V30', 'V31',\n",
       "       'V32', 'V33', 'V34', 'V35', 'V36', 'V37', 'V38', 'V39', 'V40', 'V41',\n",
       "       'V42', 'V43', 'V44', 'V45', 'V46', 'V47', 'V48', 'V49', 'V50', 'V51',\n",
       "       'V52', 'V53', 'V54', 'V55', 'V56', 'V57', 'V58', 'V59', 'V60', 'Class'],\n",
       "      dtype='object')"
      ]
     },
     "execution_count": 44,
     "metadata": {},
     "output_type": "execute_result"
    }
   ],
   "source": [
    "df_corr=df.drop(['ID'],axis=1)\n",
    "df_corr.columns"
   ]
  },
  {
   "cell_type": "code",
   "execution_count": 45,
   "metadata": {},
   "outputs": [],
   "source": [
    "df_corr[\"Class\"] = df_corr[\"Class\"].cat.codes"
   ]
  },
  {
   "cell_type": "code",
   "execution_count": 46,
   "metadata": {},
   "outputs": [
    {
     "data": {
      "text/plain": [
       "V1    -0.281994\n",
       "V2    -0.228883\n",
       "V3    -0.194363\n",
       "V4    -0.253422\n",
       "V5    -0.221194\n",
       "V6    -0.123678\n",
       "V7    -0.099940\n",
       "V8    -0.173621\n",
       "V9    -0.314517\n",
       "V10   -0.335701\n",
       "Name: Class, dtype: float64"
      ]
     },
     "execution_count": 46,
     "metadata": {},
     "output_type": "execute_result"
    }
   ],
   "source": [
    "df_corr[df_corr.columns].corr()['Class'][:][:10]"
   ]
  },
  {
   "cell_type": "markdown",
   "metadata": {},
   "source": [
    "I would like to include features which are not in the range (-0.25,0.25). So, they are V1,V4,V9,V10"
   ]
  },
  {
   "cell_type": "code",
   "execution_count": 47,
   "metadata": {},
   "outputs": [],
   "source": [
    "df1=df_corr[df_corr.columns[:10]]"
   ]
  },
  {
   "cell_type": "code",
   "execution_count": 48,
   "metadata": {},
   "outputs": [
    {
     "data": {
      "text/html": [
       "<div>\n",
       "<style scoped>\n",
       "    .dataframe tbody tr th:only-of-type {\n",
       "        vertical-align: middle;\n",
       "    }\n",
       "\n",
       "    .dataframe tbody tr th {\n",
       "        vertical-align: top;\n",
       "    }\n",
       "\n",
       "    .dataframe thead th {\n",
       "        text-align: right;\n",
       "    }\n",
       "</style>\n",
       "<table border=\"1\" class=\"dataframe\">\n",
       "  <thead>\n",
       "    <tr style=\"text-align: right;\">\n",
       "      <th></th>\n",
       "      <th>V1</th>\n",
       "      <th>V2</th>\n",
       "      <th>V3</th>\n",
       "      <th>V4</th>\n",
       "      <th>V5</th>\n",
       "      <th>V6</th>\n",
       "      <th>V7</th>\n",
       "      <th>V8</th>\n",
       "      <th>V9</th>\n",
       "      <th>V10</th>\n",
       "    </tr>\n",
       "  </thead>\n",
       "  <tbody>\n",
       "    <tr>\n",
       "      <td>0</td>\n",
       "      <td>0.0654</td>\n",
       "      <td>0.0649</td>\n",
       "      <td>0.0737</td>\n",
       "      <td>0.1132</td>\n",
       "      <td>0.2482</td>\n",
       "      <td>0.1257</td>\n",
       "      <td>0.1797</td>\n",
       "      <td>0.0989</td>\n",
       "      <td>0.2460</td>\n",
       "      <td>0.3422</td>\n",
       "    </tr>\n",
       "    <tr>\n",
       "      <td>1</td>\n",
       "      <td>0.0353</td>\n",
       "      <td>0.0713</td>\n",
       "      <td>0.0326</td>\n",
       "      <td>0.0272</td>\n",
       "      <td>0.0370</td>\n",
       "      <td>0.0792</td>\n",
       "      <td>0.1083</td>\n",
       "      <td>0.0687</td>\n",
       "      <td>0.0298</td>\n",
       "      <td>0.0880</td>\n",
       "    </tr>\n",
       "    <tr>\n",
       "      <td>2</td>\n",
       "      <td>0.0229</td>\n",
       "      <td>0.0369</td>\n",
       "      <td>0.0040</td>\n",
       "      <td>0.0375</td>\n",
       "      <td>0.0455</td>\n",
       "      <td>0.1452</td>\n",
       "      <td>0.2211</td>\n",
       "      <td>0.1188</td>\n",
       "      <td>0.0750</td>\n",
       "      <td>0.1631</td>\n",
       "    </tr>\n",
       "    <tr>\n",
       "      <td>3</td>\n",
       "      <td>0.0270</td>\n",
       "      <td>0.0092</td>\n",
       "      <td>0.0145</td>\n",
       "      <td>0.0278</td>\n",
       "      <td>0.0412</td>\n",
       "      <td>0.0757</td>\n",
       "      <td>0.1026</td>\n",
       "      <td>0.1138</td>\n",
       "      <td>0.0794</td>\n",
       "      <td>0.1520</td>\n",
       "    </tr>\n",
       "    <tr>\n",
       "      <td>4</td>\n",
       "      <td>0.0050</td>\n",
       "      <td>0.0017</td>\n",
       "      <td>0.0270</td>\n",
       "      <td>0.0450</td>\n",
       "      <td>0.0958</td>\n",
       "      <td>0.0830</td>\n",
       "      <td>0.0879</td>\n",
       "      <td>0.1220</td>\n",
       "      <td>0.1977</td>\n",
       "      <td>0.2282</td>\n",
       "    </tr>\n",
       "  </tbody>\n",
       "</table>\n",
       "</div>"
      ],
      "text/plain": [
       "       V1      V2      V3      V4      V5      V6      V7      V8      V9  \\\n",
       "0  0.0654  0.0649  0.0737  0.1132  0.2482  0.1257  0.1797  0.0989  0.2460   \n",
       "1  0.0353  0.0713  0.0326  0.0272  0.0370  0.0792  0.1083  0.0687  0.0298   \n",
       "2  0.0229  0.0369  0.0040  0.0375  0.0455  0.1452  0.2211  0.1188  0.0750   \n",
       "3  0.0270  0.0092  0.0145  0.0278  0.0412  0.0757  0.1026  0.1138  0.0794   \n",
       "4  0.0050  0.0017  0.0270  0.0450  0.0958  0.0830  0.0879  0.1220  0.1977   \n",
       "\n",
       "      V10  \n",
       "0  0.3422  \n",
       "1  0.0880  \n",
       "2  0.1631  \n",
       "3  0.1520  \n",
       "4  0.2282  "
      ]
     },
     "execution_count": 48,
     "metadata": {},
     "output_type": "execute_result"
    }
   ],
   "source": [
    "df1.head()"
   ]
  },
  {
   "cell_type": "code",
   "execution_count": 49,
   "metadata": {},
   "outputs": [],
   "source": [
    "from sklearn.model_selection import train_test_split, cross_val_score\n",
    "X = df1.drop(labels=['V6','V7'],axis=1)\n",
    "y = df_corr['Class']\n",
    "X_train,X_test,y_train,y_test = train_test_split(X,y,test_size=0.20,random_state=0)"
   ]
  },
  {
   "cell_type": "code",
   "execution_count": 50,
   "metadata": {},
   "outputs": [
    {
     "data": {
      "text/plain": [
       "LogisticRegression(C=1.0, class_weight=None, dual=False, fit_intercept=True,\n",
       "                   intercept_scaling=1, l1_ratio=None, max_iter=100,\n",
       "                   multi_class='auto', n_jobs=None, penalty='l2',\n",
       "                   random_state=None, solver='lbfgs', tol=0.0001, verbose=0,\n",
       "                   warm_start=False)"
      ]
     },
     "execution_count": 50,
     "metadata": {},
     "output_type": "execute_result"
    }
   ],
   "source": [
    "lg = LogisticRegression()\n",
    "lg.fit(X_train, y_train)"
   ]
  },
  {
   "cell_type": "code",
   "execution_count": 51,
   "metadata": {},
   "outputs": [
    {
     "data": {
      "text/plain": [
       "{'accuracy': 0.7073170731707317,\n",
       " 'precision': 0.75,\n",
       " 'recall': 0.6,\n",
       " 'f_measure': 0.6666666666666665,\n",
       " 'sensitivity': 0.6,\n",
       " 'specificity': 0.8095238095238095,\n",
       " 'error_rate': 0.29268292682926833,\n",
       " 'confusion_matrix': array([[17,  4],\n",
       "        [ 8, 12]], dtype=int64)}"
      ]
     },
     "execution_count": 51,
     "metadata": {},
     "output_type": "execute_result"
    }
   ],
   "source": [
    "lg_pred = lg.predict(X_test)\n",
    "lg_metrics = model_eval(y_test, lg_pred)\n",
    "lg_metrics"
   ]
  },
  {
   "cell_type": "code",
   "execution_count": 52,
   "metadata": {},
   "outputs": [
    {
     "data": {
      "text/plain": [
       "DecisionTreeClassifier(ccp_alpha=0.0, class_weight=None, criterion='gini',\n",
       "                       max_depth=None, max_features=None, max_leaf_nodes=None,\n",
       "                       min_impurity_decrease=0.0, min_impurity_split=None,\n",
       "                       min_samples_leaf=1, min_samples_split=2,\n",
       "                       min_weight_fraction_leaf=0.0, presort='deprecated',\n",
       "                       random_state=None, splitter='best')"
      ]
     },
     "execution_count": 52,
     "metadata": {},
     "output_type": "execute_result"
    }
   ],
   "source": [
    "from sklearn.tree import DecisionTreeClassifier\n",
    "dt = DecisionTreeClassifier()\n",
    "dt.fit(X_train, y_train)"
   ]
  },
  {
   "cell_type": "code",
   "execution_count": 53,
   "metadata": {},
   "outputs": [
    {
     "data": {
      "text/plain": [
       "{'accuracy': 0.5853658536585366,\n",
       " 'precision': 0.5714285714285714,\n",
       " 'recall': 0.6,\n",
       " 'f_measure': 0.5853658536585366,\n",
       " 'sensitivity': 0.6,\n",
       " 'specificity': 0.5714285714285714,\n",
       " 'error_rate': 0.41463414634146345,\n",
       " 'confusion_matrix': array([[12,  9],\n",
       "        [ 8, 12]], dtype=int64)}"
      ]
     },
     "execution_count": 53,
     "metadata": {},
     "output_type": "execute_result"
    }
   ],
   "source": [
    "dt_pred = dt.predict(X_test)\n",
    "dt_metrics = model_eval(y_test, dt_pred)\n",
    "dt_metrics"
   ]
  },
  {
   "cell_type": "code",
   "execution_count": 54,
   "metadata": {},
   "outputs": [
    {
     "data": {
      "text/plain": [
       "RandomForestClassifier(bootstrap=True, ccp_alpha=0.0, class_weight=None,\n",
       "                       criterion='entropy', max_depth=None, max_features='auto',\n",
       "                       max_leaf_nodes=None, max_samples=None,\n",
       "                       min_impurity_decrease=0.0, min_impurity_split=None,\n",
       "                       min_samples_leaf=1, min_samples_split=2,\n",
       "                       min_weight_fraction_leaf=0.0, n_estimators=70, n_jobs=-1,\n",
       "                       oob_score=False, random_state=33, verbose=0,\n",
       "                       warm_start=False)"
      ]
     },
     "execution_count": 54,
     "metadata": {},
     "output_type": "execute_result"
    }
   ],
   "source": [
    "from sklearn.ensemble import RandomForestClassifier\n",
    "rfc = RandomForestClassifier(n_estimators=70, criterion='entropy', random_state=33, n_jobs=-1)\n",
    "rfc.fit(X_train, y_train)"
   ]
  },
  {
   "cell_type": "code",
   "execution_count": 55,
   "metadata": {},
   "outputs": [
    {
     "data": {
      "text/plain": [
       "{'accuracy': 0.6097560975609756,\n",
       " 'precision': 0.6428571428571429,\n",
       " 'recall': 0.45,\n",
       " 'f_measure': 0.5294117647058824,\n",
       " 'sensitivity': 0.45,\n",
       " 'specificity': 0.7619047619047619,\n",
       " 'error_rate': 0.3902439024390244,\n",
       " 'confusion_matrix': array([[16,  5],\n",
       "        [11,  9]], dtype=int64)}"
      ]
     },
     "execution_count": 55,
     "metadata": {},
     "output_type": "execute_result"
    }
   ],
   "source": [
    "rfc_pred = rfc.predict(X_test)\n",
    "rfc_metrics = model_eval(y_test, rfc_pred)\n",
    "rfc_metrics"
   ]
  },
  {
   "cell_type": "code",
   "execution_count": 56,
   "metadata": {},
   "outputs": [
    {
     "data": {
      "text/plain": [
       "XGBClassifier(base_score=0.5, booster=None, colsample_bylevel=1,\n",
       "              colsample_bynode=1, colsample_bytree=1, gamma=0, gpu_id=-1,\n",
       "              importance_type='gain', interaction_constraints=None,\n",
       "              learning_rate=0.300000012, max_delta_step=0, max_depth=6,\n",
       "              min_child_weight=1, missing=nan, monotone_constraints=None,\n",
       "              n_estimators=100, n_jobs=0, num_parallel_tree=1,\n",
       "              objective='binary:logistic', random_state=0, reg_alpha=0,\n",
       "              reg_lambda=1, scale_pos_weight=1, subsample=1, tree_method=None,\n",
       "              validate_parameters=False, verbosity=None)"
      ]
     },
     "execution_count": 56,
     "metadata": {},
     "output_type": "execute_result"
    }
   ],
   "source": [
    "from xgboost import XGBClassifier\n",
    "xgb = XGBClassifier()\n",
    "xgb.fit(X_train, y_train)"
   ]
  },
  {
   "cell_type": "code",
   "execution_count": 57,
   "metadata": {},
   "outputs": [
    {
     "data": {
      "text/plain": [
       "{'accuracy': 0.5365853658536586,\n",
       " 'precision': 0.5294117647058824,\n",
       " 'recall': 0.45,\n",
       " 'f_measure': 0.48648648648648646,\n",
       " 'sensitivity': 0.45,\n",
       " 'specificity': 0.6190476190476191,\n",
       " 'error_rate': 0.46341463414634143,\n",
       " 'confusion_matrix': array([[13,  8],\n",
       "        [11,  9]], dtype=int64)}"
      ]
     },
     "execution_count": 57,
     "metadata": {},
     "output_type": "execute_result"
    }
   ],
   "source": [
    "xgb_pred = xgb.predict(X_test)\n",
    "xgb_metrics = model_eval(y_test, xgb_pred)\n",
    "xgb_metrics"
   ]
  },
  {
   "cell_type": "code",
   "execution_count": 58,
   "metadata": {},
   "outputs": [
    {
     "data": {
      "text/plain": [
       "GradientBoostingClassifier(ccp_alpha=0.0, criterion='friedman_mse', init=None,\n",
       "                           learning_rate=0.1, loss='deviance', max_depth=3,\n",
       "                           max_features=None, max_leaf_nodes=None,\n",
       "                           min_impurity_decrease=0.0, min_impurity_split=None,\n",
       "                           min_samples_leaf=1, min_samples_split=2,\n",
       "                           min_weight_fraction_leaf=0.0, n_estimators=100,\n",
       "                           n_iter_no_change=None, presort='deprecated',\n",
       "                           random_state=None, subsample=1.0, tol=0.0001,\n",
       "                           validation_fraction=0.1, verbose=0,\n",
       "                           warm_start=False)"
      ]
     },
     "execution_count": 58,
     "metadata": {},
     "output_type": "execute_result"
    }
   ],
   "source": [
    "from sklearn.ensemble import GradientBoostingClassifier\n",
    "gbc = GradientBoostingClassifier()\n",
    "gbc.fit(X_train, y_train)"
   ]
  },
  {
   "cell_type": "code",
   "execution_count": 59,
   "metadata": {},
   "outputs": [
    {
     "data": {
      "text/plain": [
       "{'accuracy': 0.6585365853658537,\n",
       " 'precision': 0.7142857142857143,\n",
       " 'recall': 0.5,\n",
       " 'f_measure': 0.588235294117647,\n",
       " 'sensitivity': 0.5,\n",
       " 'specificity': 0.8095238095238095,\n",
       " 'error_rate': 0.3414634146341463,\n",
       " 'confusion_matrix': array([[17,  4],\n",
       "        [10, 10]], dtype=int64)}"
      ]
     },
     "execution_count": 59,
     "metadata": {},
     "output_type": "execute_result"
    }
   ],
   "source": [
    "gbc_pred = gbc.predict(X_test)\n",
    "gbc_metrics = model_eval(y_test, gbc_pred)\n",
    "gbc_metrics"
   ]
  },
  {
   "cell_type": "code",
   "execution_count": 60,
   "metadata": {},
   "outputs": [
    {
     "data": {
      "text/plain": [
       "SVC(C=10, break_ties=False, cache_size=200, class_weight=None, coef0=0.0,\n",
       "    decision_function_shape='ovr', degree=3, gamma='scale', kernel='rbf',\n",
       "    max_iter=-1, probability=False, random_state=None, shrinking=True,\n",
       "    tol=0.001, verbose=False)"
      ]
     },
     "execution_count": 60,
     "metadata": {},
     "output_type": "execute_result"
    }
   ],
   "source": [
    "from sklearn.svm import SVC\n",
    "svc = SVC(C = 10)\n",
    "svc.fit(X_train, y_train)"
   ]
  },
  {
   "cell_type": "code",
   "execution_count": 61,
   "metadata": {},
   "outputs": [
    {
     "data": {
      "text/plain": [
       "{'accuracy': 0.6097560975609756,\n",
       " 'precision': 0.625,\n",
       " 'recall': 0.5,\n",
       " 'f_measure': 0.5555555555555556,\n",
       " 'sensitivity': 0.5,\n",
       " 'specificity': 0.7142857142857143,\n",
       " 'error_rate': 0.3902439024390244,\n",
       " 'confusion_matrix': array([[15,  6],\n",
       "        [10, 10]], dtype=int64)}"
      ]
     },
     "execution_count": 61,
     "metadata": {},
     "output_type": "execute_result"
    }
   ],
   "source": [
    "svc_pred = svc.predict(X_test)\n",
    "svc_metrics = model_eval(y_test, svc_pred)\n",
    "svc_metrics"
   ]
  },
  {
   "cell_type": "code",
   "execution_count": 62,
   "metadata": {},
   "outputs": [
    {
     "data": {
      "text/plain": [
       "KNeighborsClassifier(algorithm='auto', leaf_size=30, metric='minkowski',\n",
       "                     metric_params=None, n_jobs=None, n_neighbors=5, p=2,\n",
       "                     weights='uniform')"
      ]
     },
     "execution_count": 62,
     "metadata": {},
     "output_type": "execute_result"
    }
   ],
   "source": [
    "from sklearn.neighbors import KNeighborsClassifier\n",
    "model = KNeighborsClassifier(n_neighbors=5)\n",
    "knn = KNeighborsClassifier()\n",
    "knn.fit(X_train, y_train)"
   ]
  },
  {
   "cell_type": "code",
   "execution_count": 63,
   "metadata": {},
   "outputs": [
    {
     "data": {
      "text/plain": [
       "{'accuracy': 0.6829268292682927,\n",
       " 'precision': 0.7692307692307693,\n",
       " 'recall': 0.5,\n",
       " 'f_measure': 0.6060606060606061,\n",
       " 'sensitivity': 0.5,\n",
       " 'specificity': 0.8571428571428571,\n",
       " 'error_rate': 0.31707317073170727,\n",
       " 'confusion_matrix': array([[18,  3],\n",
       "        [10, 10]], dtype=int64)}"
      ]
     },
     "execution_count": 63,
     "metadata": {},
     "output_type": "execute_result"
    }
   ],
   "source": [
    "knn_pred = knn.predict(X_test)\n",
    "knn_metrics = model_eval(y_test, knn_pred)\n",
    "knn_metrics"
   ]
  },
  {
   "cell_type": "markdown",
   "metadata": {},
   "source": [
    "- Among all the models logistic regression performs very well with an accuracy of 70.5% and with decent precision, recall.\n",
    "- As the dataset size is too low(202), I cannot say this model performs very well for the future dataset.\n",
    "- Among all the correlation values, I removed columns V6, V7 because they are weakly correlated with response variable.\n",
    "- When I have included all the columns from V1...V10 the accuracy measure is decreasing. \n",
    "- I have tried with many other ML models but bench mark models perform with an accuracy of 65%."
   ]
  },
  {
   "cell_type": "markdown",
   "metadata": {},
   "source": [
    "7. Developed a predictive model using (V1...V40) as explanatory variables"
   ]
  },
  {
   "cell_type": "code",
   "execution_count": 66,
   "metadata": {},
   "outputs": [],
   "source": [
    "corr=df_corr[df_corr.columns].corr()['Class'][:][:40]"
   ]
  },
  {
   "cell_type": "code",
   "execution_count": 70,
   "metadata": {},
   "outputs": [
    {
     "name": "stdout",
     "output_type": "stream",
     "text": [
      "{'V1': -0.28199431784010986, 'V2': -0.22888266880974337, 'V4': -0.25342160633870375, 'V5': -0.22119372610887816, 'V9': -0.31451679356372275, 'V10': -0.33570067542879256, 'V11': -0.42271427996854827, 'V12': -0.38062280881203076, 'V13': -0.31097886429629884, 'V20': -0.22206407430064365, 'V21': -0.2463599007788793, 'V22': -0.21224943557950118, 'V35': 0.22374266256205727, 'V36': 0.2630146955726627}\n"
     ]
    }
   ],
   "source": [
    "# Arranging in a dictionary of column name and correlation value having considerable correlation\n",
    "dic_corr={}\n",
    "for i,val in enumerate(list(corr)):\n",
    "    if val>=0.2 or val<=-0.2:\n",
    "        dic_corr[df_corr.columns[i]]=val\n",
    "print(dic_corr)    "
   ]
  },
  {
   "cell_type": "code",
   "execution_count": 84,
   "metadata": {},
   "outputs": [],
   "source": [
    "from sklearn.model_selection import train_test_split, cross_val_score\n",
    "X = df_corr[dic_corr.keys()]\n",
    "y = df_corr['Class']\n",
    "X_train,X_test,y_train,y_test = train_test_split(X,y,test_size=0.20,random_state=0)"
   ]
  },
  {
   "cell_type": "code",
   "execution_count": 85,
   "metadata": {},
   "outputs": [
    {
     "data": {
      "text/html": [
       "<div>\n",
       "<style scoped>\n",
       "    .dataframe tbody tr th:only-of-type {\n",
       "        vertical-align: middle;\n",
       "    }\n",
       "\n",
       "    .dataframe tbody tr th {\n",
       "        vertical-align: top;\n",
       "    }\n",
       "\n",
       "    .dataframe thead th {\n",
       "        text-align: right;\n",
       "    }\n",
       "</style>\n",
       "<table border=\"1\" class=\"dataframe\">\n",
       "  <thead>\n",
       "    <tr style=\"text-align: right;\">\n",
       "      <th></th>\n",
       "      <th>V1</th>\n",
       "      <th>V2</th>\n",
       "      <th>V4</th>\n",
       "      <th>V5</th>\n",
       "      <th>V9</th>\n",
       "      <th>V10</th>\n",
       "      <th>V11</th>\n",
       "      <th>V12</th>\n",
       "      <th>V13</th>\n",
       "      <th>V20</th>\n",
       "      <th>V21</th>\n",
       "      <th>V22</th>\n",
       "      <th>V35</th>\n",
       "      <th>V36</th>\n",
       "    </tr>\n",
       "  </thead>\n",
       "  <tbody>\n",
       "    <tr>\n",
       "      <td>0</td>\n",
       "      <td>0.0654</td>\n",
       "      <td>0.0649</td>\n",
       "      <td>0.1132</td>\n",
       "      <td>0.2482</td>\n",
       "      <td>0.2460</td>\n",
       "      <td>0.3422</td>\n",
       "      <td>0.2128</td>\n",
       "      <td>0.1377</td>\n",
       "      <td>0.4032</td>\n",
       "      <td>0.8835</td>\n",
       "      <td>0.5248</td>\n",
       "      <td>0.6373</td>\n",
       "      <td>0.2960</td>\n",
       "      <td>0.0704</td>\n",
       "    </tr>\n",
       "    <tr>\n",
       "      <td>1</td>\n",
       "      <td>0.0353</td>\n",
       "      <td>0.0713</td>\n",
       "      <td>0.0272</td>\n",
       "      <td>0.0370</td>\n",
       "      <td>0.0298</td>\n",
       "      <td>0.0880</td>\n",
       "      <td>0.1078</td>\n",
       "      <td>0.0979</td>\n",
       "      <td>0.2250</td>\n",
       "      <td>0.1410</td>\n",
       "      <td>0.1268</td>\n",
       "      <td>0.3151</td>\n",
       "      <td>0.8380</td>\n",
       "      <td>1.0000</td>\n",
       "    </tr>\n",
       "    <tr>\n",
       "      <td>2</td>\n",
       "      <td>0.0229</td>\n",
       "      <td>0.0369</td>\n",
       "      <td>0.0375</td>\n",
       "      <td>0.0455</td>\n",
       "      <td>0.0750</td>\n",
       "      <td>0.1631</td>\n",
       "      <td>0.2709</td>\n",
       "      <td>0.3358</td>\n",
       "      <td>0.4091</td>\n",
       "      <td>0.9418</td>\n",
       "      <td>0.9116</td>\n",
       "      <td>0.9349</td>\n",
       "      <td>0.3044</td>\n",
       "      <td>0.2312</td>\n",
       "    </tr>\n",
       "    <tr>\n",
       "      <td>3</td>\n",
       "      <td>0.0270</td>\n",
       "      <td>0.0092</td>\n",
       "      <td>0.0278</td>\n",
       "      <td>0.0412</td>\n",
       "      <td>0.0794</td>\n",
       "      <td>0.1520</td>\n",
       "      <td>0.1675</td>\n",
       "      <td>0.1370</td>\n",
       "      <td>0.1361</td>\n",
       "      <td>0.3226</td>\n",
       "      <td>0.4430</td>\n",
       "      <td>0.5573</td>\n",
       "      <td>0.6239</td>\n",
       "      <td>0.5972</td>\n",
       "    </tr>\n",
       "    <tr>\n",
       "      <td>4</td>\n",
       "      <td>0.0050</td>\n",
       "      <td>0.0017</td>\n",
       "      <td>0.0450</td>\n",
       "      <td>0.0958</td>\n",
       "      <td>0.1977</td>\n",
       "      <td>0.2282</td>\n",
       "      <td>0.2521</td>\n",
       "      <td>0.3484</td>\n",
       "      <td>0.3309</td>\n",
       "      <td>0.7265</td>\n",
       "      <td>0.8346</td>\n",
       "      <td>0.8268</td>\n",
       "      <td>0.1769</td>\n",
       "      <td>0.1140</td>\n",
       "    </tr>\n",
       "  </tbody>\n",
       "</table>\n",
       "</div>"
      ],
      "text/plain": [
       "       V1      V2      V4      V5      V9     V10     V11     V12     V13  \\\n",
       "0  0.0654  0.0649  0.1132  0.2482  0.2460  0.3422  0.2128  0.1377  0.4032   \n",
       "1  0.0353  0.0713  0.0272  0.0370  0.0298  0.0880  0.1078  0.0979  0.2250   \n",
       "2  0.0229  0.0369  0.0375  0.0455  0.0750  0.1631  0.2709  0.3358  0.4091   \n",
       "3  0.0270  0.0092  0.0278  0.0412  0.0794  0.1520  0.1675  0.1370  0.1361   \n",
       "4  0.0050  0.0017  0.0450  0.0958  0.1977  0.2282  0.2521  0.3484  0.3309   \n",
       "\n",
       "      V20     V21     V22     V35     V36  \n",
       "0  0.8835  0.5248  0.6373  0.2960  0.0704  \n",
       "1  0.1410  0.1268  0.3151  0.8380  1.0000  \n",
       "2  0.9418  0.9116  0.9349  0.3044  0.2312  \n",
       "3  0.3226  0.4430  0.5573  0.6239  0.5972  \n",
       "4  0.7265  0.8346  0.8268  0.1769  0.1140  "
      ]
     },
     "execution_count": 85,
     "metadata": {},
     "output_type": "execute_result"
    }
   ],
   "source": [
    "X.head()"
   ]
  },
  {
   "cell_type": "code",
   "execution_count": 86,
   "metadata": {},
   "outputs": [
    {
     "data": {
      "text/plain": [
       "LogisticRegression(C=1.0, class_weight=None, dual=False, fit_intercept=True,\n",
       "                   intercept_scaling=1, l1_ratio=None, max_iter=100,\n",
       "                   multi_class='auto', n_jobs=None, penalty='l2',\n",
       "                   random_state=None, solver='lbfgs', tol=0.0001, verbose=0,\n",
       "                   warm_start=False)"
      ]
     },
     "execution_count": 86,
     "metadata": {},
     "output_type": "execute_result"
    }
   ],
   "source": [
    "lg = LogisticRegression()\n",
    "lg.fit(X_train, y_train)"
   ]
  },
  {
   "cell_type": "code",
   "execution_count": 87,
   "metadata": {},
   "outputs": [
    {
     "data": {
      "text/plain": [
       "{'accuracy': 0.8292682926829268,\n",
       " 'precision': 0.9333333333333333,\n",
       " 'recall': 0.7,\n",
       " 'f_measure': 0.8,\n",
       " 'sensitivity': 0.7,\n",
       " 'specificity': 0.9523809523809523,\n",
       " 'error_rate': 0.1707317073170732,\n",
       " 'confusion_matrix': array([[20,  1],\n",
       "        [ 6, 14]], dtype=int64)}"
      ]
     },
     "execution_count": 87,
     "metadata": {},
     "output_type": "execute_result"
    }
   ],
   "source": [
    "lg_pred = lg.predict(X_test)\n",
    "lg_metrics = model_eval(y_test, lg_pred)\n",
    "lg_metrics"
   ]
  },
  {
   "cell_type": "markdown",
   "metadata": {},
   "source": [
    "- I have tried all the classification models and found out Logistic Regression performs with an accuracy of 83%.\n",
    "- The precision, Recall values are very high comparitive to previous model.\n",
    "- When I have worked with first 40 features, the accuracy measure is 69% which is very low.\n",
    "- So, I have taken features which do have correlation value more than 0.2 and less than -0.2 with response variable.\n",
    "- Same note that I have mentioned for the previous model as the dataset size is less cannot judge the future dataset."
   ]
  },
  {
   "cell_type": "markdown",
   "metadata": {},
   "source": [
    "8. Processing of columns in XML dataset"
   ]
  },
  {
   "cell_type": "markdown",
   "metadata": {},
   "source": [
    "a. XML functions used to loop through records V1,V2,...V60"
   ]
  },
  {
   "cell_type": "markdown",
   "metadata": {},
   "source": [
    "#Packages Imported\n",
    "- import xml.etree.ElementTree \n",
    "- import pandas \n",
    "- import numpy \n",
    "\n",
    "#Function to parse XML\n",
    "- ET.XML(xml_data)  # Parse XML\n",
    "- subchild.text  # Extract the Feature Values\n",
    "- subchild.tag   # Extract the Column name"
   ]
  },
  {
   "cell_type": "markdown",
   "metadata": {},
   "source": [
    "b. Exception Handling:\n",
    "- Replaced values ('NA') with np.nan"
   ]
  },
  {
   "cell_type": "markdown",
   "metadata": {},
   "source": [
    "9. Generating metrics outputs"
   ]
  },
  {
   "cell_type": "code",
   "execution_count": 88,
   "metadata": {},
   "outputs": [
    {
     "name": "stdout",
     "output_type": "stream",
     "text": [
      "<class 'pandas.core.frame.DataFrame'>\n",
      "RangeIndex: 208 entries, 0 to 207\n",
      "Data columns (total 21 columns):\n",
      "ID     208 non-null int32\n",
      "V1     208 non-null float64\n",
      "V2     207 non-null float64\n",
      "V3     208 non-null float64\n",
      "V4     208 non-null float64\n",
      "V5     208 non-null float64\n",
      "V6     208 non-null float64\n",
      "V7     208 non-null float64\n",
      "V8     208 non-null float64\n",
      "V9     208 non-null float64\n",
      "V10    208 non-null float64\n",
      "V11    208 non-null float64\n",
      "V12    208 non-null float64\n",
      "V13    208 non-null float64\n",
      "V14    208 non-null float64\n",
      "V15    208 non-null float64\n",
      "V16    208 non-null float64\n",
      "V17    207 non-null float64\n",
      "V18    208 non-null float64\n",
      "V19    208 non-null float64\n",
      "V20    208 non-null float64\n",
      "dtypes: float64(20), int32(1)\n",
      "memory usage: 33.4 KB\n"
     ]
    }
   ],
   "source": [
    "data1.info()"
   ]
  },
  {
   "cell_type": "code",
   "execution_count": 89,
   "metadata": {},
   "outputs": [
    {
     "name": "stdout",
     "output_type": "stream",
     "text": [
      "<class 'pandas.core.frame.DataFrame'>\n",
      "RangeIndex: 208 entries, 0 to 207\n",
      "Data columns (total 21 columns):\n",
      "ID     208 non-null int32\n",
      "V21    208 non-null float64\n",
      "V22    208 non-null float64\n",
      "V23    208 non-null float64\n",
      "V24    208 non-null float64\n",
      "V25    208 non-null float64\n",
      "V26    208 non-null float64\n",
      "V27    208 non-null float64\n",
      "V28    208 non-null float64\n",
      "V29    208 non-null float64\n",
      "V30    208 non-null float64\n",
      "V31    208 non-null float64\n",
      "V32    208 non-null float64\n",
      "V33    208 non-null float64\n",
      "V34    208 non-null float64\n",
      "V35    208 non-null float64\n",
      "V36    208 non-null float64\n",
      "V37    205 non-null float64\n",
      "V38    208 non-null float64\n",
      "V39    208 non-null float64\n",
      "V40    208 non-null float64\n",
      "dtypes: float64(20), int32(1)\n",
      "memory usage: 33.4 KB\n"
     ]
    }
   ],
   "source": [
    "data2.info()"
   ]
  },
  {
   "cell_type": "code",
   "execution_count": 90,
   "metadata": {},
   "outputs": [
    {
     "name": "stdout",
     "output_type": "stream",
     "text": [
      "<class 'pandas.core.frame.DataFrame'>\n",
      "RangeIndex: 208 entries, 0 to 207\n",
      "Data columns (total 22 columns):\n",
      "ID       208 non-null int32\n",
      "V41      208 non-null float64\n",
      "V42      208 non-null float64\n",
      "V43      206 non-null float64\n",
      "V44      208 non-null float64\n",
      "V45      208 non-null float64\n",
      "V46      208 non-null float64\n",
      "V47      208 non-null float64\n",
      "V48      208 non-null float64\n",
      "V49      208 non-null float64\n",
      "V50      208 non-null float64\n",
      "V51      208 non-null float64\n",
      "V52      208 non-null float64\n",
      "V53      208 non-null float64\n",
      "V54      208 non-null float64\n",
      "V55      208 non-null float64\n",
      "V56      208 non-null float64\n",
      "V57      208 non-null float64\n",
      "V58      208 non-null float64\n",
      "V59      208 non-null float64\n",
      "V60      208 non-null float64\n",
      "Class    208 non-null category\n",
      "dtypes: category(1), float64(20), int32(1)\n",
      "memory usage: 33.7 KB\n"
     ]
    }
   ],
   "source": [
    "data3.info()"
   ]
  },
  {
   "cell_type": "code",
   "execution_count": 91,
   "metadata": {},
   "outputs": [
    {
     "data": {
      "text/plain": [
       "(208, 208)"
      ]
     },
     "execution_count": 91,
     "metadata": {},
     "output_type": "execute_result"
    }
   ],
   "source": [
    "df_unique = df_final.drop_duplicates()\n",
    "len(df_unique), len(df_final)"
   ]
  }
 ],
 "metadata": {
  "kernelspec": {
   "display_name": "Python 3",
   "language": "python",
   "name": "python3"
  },
  "language_info": {
   "codemirror_mode": {
    "name": "ipython",
    "version": 3
   },
   "file_extension": ".py",
   "mimetype": "text/x-python",
   "name": "python",
   "nbconvert_exporter": "python",
   "pygments_lexer": "ipython3",
   "version": "3.7.1"
  }
 },
 "nbformat": 4,
 "nbformat_minor": 2
}
